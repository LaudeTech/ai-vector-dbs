{
 "cells": [
  {
   "cell_type": "markdown",
   "metadata": {},
   "source": [
    "# Búsquedas semánticas con películas de Star Wars\n",
    "\n",
    "## Entorno:\n",
    "\n",
    "```shellscript\n",
    "docker run -p 6333:6333 -p 6334:6334 -v $(pwd)/q_storage:/qdrant/storage:z qdrant/qdrant\n",
    "```\n",
    "\n",
    "```shellscript\t\n",
    "python -m venv .venv\n",
    "source .venv/bin/activate\n",
    "```\n",
    "\n",
    "Dataset: https://www.kaggle.com/datasets/jrobischon/wikipedia-movie-plots\n"
   ]
  },
  {
   "cell_type": "code",
   "execution_count": 14,
   "metadata": {},
   "outputs": [
    {
     "name": "stdout",
     "output_type": "stream",
     "text": [
      "Requirement already satisfied: numpy in ./.venv/lib/python3.11/site-packages (from -r requirements.txt (line 1)) (1.26.3)\n",
      "Requirement already satisfied: pandas in ./.venv/lib/python3.11/site-packages (from -r requirements.txt (line 2)) (2.2.0)\n",
      "Requirement already satisfied: pyarrow in ./.venv/lib/python3.11/site-packages (from -r requirements.txt (line 3)) (15.0.0)\n",
      "Requirement already satisfied: sentence-transformers in ./.venv/lib/python3.11/site-packages (from -r requirements.txt (line 4)) (2.3.1)\n",
      "Requirement already satisfied: qdrant-client[fastembed] in ./.venv/lib/python3.11/site-packages (from -r requirements.txt (line 5)) (1.7.2)\n",
      "Requirement already satisfied: openai in ./.venv/lib/python3.11/site-packages (from -r requirements.txt (line 6)) (1.12.0)\n",
      "Requirement already satisfied: python-dotenv in ./.venv/lib/python3.11/site-packages (from -r requirements.txt (line 7)) (1.0.1)\n",
      "Requirement already satisfied: langchain in ./.venv/lib/python3.11/site-packages (from -r requirements.txt (line 8)) (0.1.7)\n",
      "Requirement already satisfied: jupyter_contrib_nbextensions in ./.venv/lib/python3.11/site-packages (from -r requirements.txt (line 10)) (0.7.0)\n",
      "Requirement already satisfied: ipywidgets in ./.venv/lib/python3.11/site-packages (from -r requirements.txt (line 11)) (8.1.2)\n",
      "Requirement already satisfied: tqdm in ./.venv/lib/python3.11/site-packages (from -r requirements.txt (line 12)) (4.66.1)\n",
      "Requirement already satisfied: python-dateutil>=2.8.2 in ./.venv/lib/python3.11/site-packages (from pandas->-r requirements.txt (line 2)) (2.8.2)\n",
      "Requirement already satisfied: pytz>=2020.1 in ./.venv/lib/python3.11/site-packages (from pandas->-r requirements.txt (line 2)) (2024.1)\n",
      "Requirement already satisfied: tzdata>=2022.7 in ./.venv/lib/python3.11/site-packages (from pandas->-r requirements.txt (line 2)) (2023.4)\n",
      "Requirement already satisfied: transformers<5.0.0,>=4.32.0 in ./.venv/lib/python3.11/site-packages (from sentence-transformers->-r requirements.txt (line 4)) (4.33.3)\n",
      "Requirement already satisfied: torch>=1.11.0 in ./.venv/lib/python3.11/site-packages (from sentence-transformers->-r requirements.txt (line 4)) (2.2.0)\n",
      "Requirement already satisfied: scikit-learn in ./.venv/lib/python3.11/site-packages (from sentence-transformers->-r requirements.txt (line 4)) (1.4.0)\n",
      "Requirement already satisfied: scipy in ./.venv/lib/python3.11/site-packages (from sentence-transformers->-r requirements.txt (line 4)) (1.12.0)\n",
      "Requirement already satisfied: nltk in ./.venv/lib/python3.11/site-packages (from sentence-transformers->-r requirements.txt (line 4)) (3.8.1)\n",
      "Requirement already satisfied: sentencepiece in ./.venv/lib/python3.11/site-packages (from sentence-transformers->-r requirements.txt (line 4)) (0.1.99)\n",
      "Requirement already satisfied: huggingface-hub>=0.15.1 in ./.venv/lib/python3.11/site-packages (from sentence-transformers->-r requirements.txt (line 4)) (0.20.3)\n",
      "Requirement already satisfied: Pillow in ./.venv/lib/python3.11/site-packages (from sentence-transformers->-r requirements.txt (line 4)) (10.2.0)\n",
      "Requirement already satisfied: fastembed==0.1.1 in ./.venv/lib/python3.11/site-packages (from qdrant-client[fastembed]->-r requirements.txt (line 5)) (0.1.1)\n",
      "Requirement already satisfied: grpcio>=1.41.0 in ./.venv/lib/python3.11/site-packages (from qdrant-client[fastembed]->-r requirements.txt (line 5)) (1.60.1)\n",
      "Requirement already satisfied: grpcio-tools>=1.41.0 in ./.venv/lib/python3.11/site-packages (from qdrant-client[fastembed]->-r requirements.txt (line 5)) (1.60.1)\n",
      "Requirement already satisfied: httpx[http2]>=0.14.0 in ./.venv/lib/python3.11/site-packages (from qdrant-client[fastembed]->-r requirements.txt (line 5)) (0.26.0)\n",
      "Requirement already satisfied: portalocker<3.0.0,>=2.7.0 in ./.venv/lib/python3.11/site-packages (from qdrant-client[fastembed]->-r requirements.txt (line 5)) (2.8.2)\n",
      "Requirement already satisfied: pydantic>=1.10.8 in ./.venv/lib/python3.11/site-packages (from qdrant-client[fastembed]->-r requirements.txt (line 5)) (2.6.1)\n",
      "Requirement already satisfied: urllib3<3,>=1.26.14 in ./.venv/lib/python3.11/site-packages (from qdrant-client[fastembed]->-r requirements.txt (line 5)) (2.2.0)\n",
      "Requirement already satisfied: onnx<2.0,>=1.11 in ./.venv/lib/python3.11/site-packages (from fastembed==0.1.1->qdrant-client[fastembed]->-r requirements.txt (line 5)) (1.15.0)\n",
      "Requirement already satisfied: onnxruntime<2.0,>=1.15 in ./.venv/lib/python3.11/site-packages (from fastembed==0.1.1->qdrant-client[fastembed]->-r requirements.txt (line 5)) (1.17.0)\n",
      "Requirement already satisfied: requests<3.0,>=2.31 in ./.venv/lib/python3.11/site-packages (from fastembed==0.1.1->qdrant-client[fastembed]->-r requirements.txt (line 5)) (2.31.0)\n",
      "Requirement already satisfied: tokenizers<0.14,>=0.13 in ./.venv/lib/python3.11/site-packages (from fastembed==0.1.1->qdrant-client[fastembed]->-r requirements.txt (line 5)) (0.13.3)\n",
      "Requirement already satisfied: anyio<5,>=3.5.0 in ./.venv/lib/python3.11/site-packages (from openai->-r requirements.txt (line 6)) (4.2.0)\n",
      "Requirement already satisfied: distro<2,>=1.7.0 in ./.venv/lib/python3.11/site-packages (from openai->-r requirements.txt (line 6)) (1.9.0)\n",
      "Requirement already satisfied: sniffio in ./.venv/lib/python3.11/site-packages (from openai->-r requirements.txt (line 6)) (1.3.0)\n",
      "Requirement already satisfied: typing-extensions<5,>=4.7 in ./.venv/lib/python3.11/site-packages (from openai->-r requirements.txt (line 6)) (4.9.0)\n",
      "Requirement already satisfied: PyYAML>=5.3 in ./.venv/lib/python3.11/site-packages (from langchain->-r requirements.txt (line 8)) (6.0.1)\n",
      "Requirement already satisfied: SQLAlchemy<3,>=1.4 in ./.venv/lib/python3.11/site-packages (from langchain->-r requirements.txt (line 8)) (2.0.27)\n",
      "Requirement already satisfied: aiohttp<4.0.0,>=3.8.3 in ./.venv/lib/python3.11/site-packages (from langchain->-r requirements.txt (line 8)) (3.9.3)\n",
      "Requirement already satisfied: dataclasses-json<0.7,>=0.5.7 in ./.venv/lib/python3.11/site-packages (from langchain->-r requirements.txt (line 8)) (0.6.4)\n",
      "Requirement already satisfied: jsonpatch<2.0,>=1.33 in ./.venv/lib/python3.11/site-packages (from langchain->-r requirements.txt (line 8)) (1.33)\n",
      "Requirement already satisfied: langchain-community<0.1,>=0.0.20 in ./.venv/lib/python3.11/site-packages (from langchain->-r requirements.txt (line 8)) (0.0.20)\n",
      "Requirement already satisfied: langchain-core<0.2,>=0.1.22 in ./.venv/lib/python3.11/site-packages (from langchain->-r requirements.txt (line 8)) (0.1.23)\n",
      "Requirement already satisfied: langsmith<0.1,>=0.0.83 in ./.venv/lib/python3.11/site-packages (from langchain->-r requirements.txt (line 8)) (0.0.87)\n",
      "Requirement already satisfied: tenacity<9.0.0,>=8.1.0 in ./.venv/lib/python3.11/site-packages (from langchain->-r requirements.txt (line 8)) (8.2.3)\n",
      "Requirement already satisfied: ipython_genutils in ./.venv/lib/python3.11/site-packages (from jupyter_contrib_nbextensions->-r requirements.txt (line 10)) (0.2.0)\n",
      "Requirement already satisfied: jupyter_contrib_core>=0.3.3 in ./.venv/lib/python3.11/site-packages (from jupyter_contrib_nbextensions->-r requirements.txt (line 10)) (0.4.2)\n",
      "Requirement already satisfied: jupyter_core in ./.venv/lib/python3.11/site-packages (from jupyter_contrib_nbextensions->-r requirements.txt (line 10)) (5.7.1)\n",
      "Requirement already satisfied: jupyter_highlight_selected_word>=0.1.1 in ./.venv/lib/python3.11/site-packages (from jupyter_contrib_nbextensions->-r requirements.txt (line 10)) (0.2.0)\n",
      "Requirement already satisfied: jupyter_nbextensions_configurator>=0.4.0 in ./.venv/lib/python3.11/site-packages (from jupyter_contrib_nbextensions->-r requirements.txt (line 10)) (0.6.3)\n",
      "Requirement already satisfied: lxml in ./.venv/lib/python3.11/site-packages (from jupyter_contrib_nbextensions->-r requirements.txt (line 10)) (5.1.0)\n",
      "Requirement already satisfied: nbconvert>=6.0 in ./.venv/lib/python3.11/site-packages (from jupyter_contrib_nbextensions->-r requirements.txt (line 10)) (7.16.0)\n",
      "Requirement already satisfied: notebook>=6.0 in ./.venv/lib/python3.11/site-packages (from jupyter_contrib_nbextensions->-r requirements.txt (line 10)) (7.0.8)\n",
      "Requirement already satisfied: tornado in ./.venv/lib/python3.11/site-packages (from jupyter_contrib_nbextensions->-r requirements.txt (line 10)) (6.4)\n",
      "Requirement already satisfied: traitlets>=4.1 in ./.venv/lib/python3.11/site-packages (from jupyter_contrib_nbextensions->-r requirements.txt (line 10)) (5.14.1)\n",
      "Requirement already satisfied: comm>=0.1.3 in ./.venv/lib/python3.11/site-packages (from ipywidgets->-r requirements.txt (line 11)) (0.2.1)\n",
      "Requirement already satisfied: ipython>=6.1.0 in ./.venv/lib/python3.11/site-packages (from ipywidgets->-r requirements.txt (line 11)) (8.21.0)\n",
      "Requirement already satisfied: widgetsnbextension~=4.0.10 in ./.venv/lib/python3.11/site-packages (from ipywidgets->-r requirements.txt (line 11)) (4.0.10)\n",
      "Requirement already satisfied: jupyterlab-widgets~=3.0.10 in ./.venv/lib/python3.11/site-packages (from ipywidgets->-r requirements.txt (line 11)) (3.0.10)\n",
      "Requirement already satisfied: aiosignal>=1.1.2 in ./.venv/lib/python3.11/site-packages (from aiohttp<4.0.0,>=3.8.3->langchain->-r requirements.txt (line 8)) (1.3.1)\n",
      "Requirement already satisfied: attrs>=17.3.0 in ./.venv/lib/python3.11/site-packages (from aiohttp<4.0.0,>=3.8.3->langchain->-r requirements.txt (line 8)) (23.2.0)\n",
      "Requirement already satisfied: frozenlist>=1.1.1 in ./.venv/lib/python3.11/site-packages (from aiohttp<4.0.0,>=3.8.3->langchain->-r requirements.txt (line 8)) (1.4.1)\n",
      "Requirement already satisfied: multidict<7.0,>=4.5 in ./.venv/lib/python3.11/site-packages (from aiohttp<4.0.0,>=3.8.3->langchain->-r requirements.txt (line 8)) (6.0.5)\n",
      "Requirement already satisfied: yarl<2.0,>=1.0 in ./.venv/lib/python3.11/site-packages (from aiohttp<4.0.0,>=3.8.3->langchain->-r requirements.txt (line 8)) (1.9.4)\n",
      "Requirement already satisfied: idna>=2.8 in ./.venv/lib/python3.11/site-packages (from anyio<5,>=3.5.0->openai->-r requirements.txt (line 6)) (3.6)\n",
      "Requirement already satisfied: marshmallow<4.0.0,>=3.18.0 in ./.venv/lib/python3.11/site-packages (from dataclasses-json<0.7,>=0.5.7->langchain->-r requirements.txt (line 8)) (3.20.2)\n",
      "Requirement already satisfied: typing-inspect<1,>=0.4.0 in ./.venv/lib/python3.11/site-packages (from dataclasses-json<0.7,>=0.5.7->langchain->-r requirements.txt (line 8)) (0.9.0)\n",
      "Requirement already satisfied: protobuf<5.0dev,>=4.21.6 in ./.venv/lib/python3.11/site-packages (from grpcio-tools>=1.41.0->qdrant-client[fastembed]->-r requirements.txt (line 5)) (4.25.2)\n",
      "Requirement already satisfied: setuptools in ./.venv/lib/python3.11/site-packages (from grpcio-tools>=1.41.0->qdrant-client[fastembed]->-r requirements.txt (line 5)) (66.1.1)\n",
      "Requirement already satisfied: certifi in ./.venv/lib/python3.11/site-packages (from httpx[http2]>=0.14.0->qdrant-client[fastembed]->-r requirements.txt (line 5)) (2024.2.2)\n",
      "Requirement already satisfied: httpcore==1.* in ./.venv/lib/python3.11/site-packages (from httpx[http2]>=0.14.0->qdrant-client[fastembed]->-r requirements.txt (line 5)) (1.0.2)\n",
      "Requirement already satisfied: h11<0.15,>=0.13 in ./.venv/lib/python3.11/site-packages (from httpcore==1.*->httpx[http2]>=0.14.0->qdrant-client[fastembed]->-r requirements.txt (line 5)) (0.14.0)\n",
      "Requirement already satisfied: h2<5,>=3 in ./.venv/lib/python3.11/site-packages (from httpx[http2]>=0.14.0->qdrant-client[fastembed]->-r requirements.txt (line 5)) (4.1.0)\n",
      "Requirement already satisfied: filelock in ./.venv/lib/python3.11/site-packages (from huggingface-hub>=0.15.1->sentence-transformers->-r requirements.txt (line 4)) (3.13.1)\n",
      "Requirement already satisfied: fsspec>=2023.5.0 in ./.venv/lib/python3.11/site-packages (from huggingface-hub>=0.15.1->sentence-transformers->-r requirements.txt (line 4)) (2024.2.0)\n",
      "Requirement already satisfied: packaging>=20.9 in ./.venv/lib/python3.11/site-packages (from huggingface-hub>=0.15.1->sentence-transformers->-r requirements.txt (line 4)) (23.2)\n",
      "Requirement already satisfied: decorator in ./.venv/lib/python3.11/site-packages (from ipython>=6.1.0->ipywidgets->-r requirements.txt (line 11)) (5.1.1)\n",
      "Requirement already satisfied: jedi>=0.16 in ./.venv/lib/python3.11/site-packages (from ipython>=6.1.0->ipywidgets->-r requirements.txt (line 11)) (0.19.1)\n",
      "Requirement already satisfied: matplotlib-inline in ./.venv/lib/python3.11/site-packages (from ipython>=6.1.0->ipywidgets->-r requirements.txt (line 11)) (0.1.6)\n",
      "Requirement already satisfied: prompt-toolkit<3.1.0,>=3.0.41 in ./.venv/lib/python3.11/site-packages (from ipython>=6.1.0->ipywidgets->-r requirements.txt (line 11)) (3.0.43)\n",
      "Requirement already satisfied: pygments>=2.4.0 in ./.venv/lib/python3.11/site-packages (from ipython>=6.1.0->ipywidgets->-r requirements.txt (line 11)) (2.17.2)\n",
      "Requirement already satisfied: stack-data in ./.venv/lib/python3.11/site-packages (from ipython>=6.1.0->ipywidgets->-r requirements.txt (line 11)) (0.6.3)\n",
      "Requirement already satisfied: pexpect>4.3 in ./.venv/lib/python3.11/site-packages (from ipython>=6.1.0->ipywidgets->-r requirements.txt (line 11)) (4.9.0)\n",
      "Requirement already satisfied: jsonpointer>=1.9 in ./.venv/lib/python3.11/site-packages (from jsonpatch<2.0,>=1.33->langchain->-r requirements.txt (line 8)) (2.4)\n",
      "Requirement already satisfied: beautifulsoup4 in ./.venv/lib/python3.11/site-packages (from nbconvert>=6.0->jupyter_contrib_nbextensions->-r requirements.txt (line 10)) (4.12.3)\n",
      "Requirement already satisfied: bleach!=5.0.0 in ./.venv/lib/python3.11/site-packages (from nbconvert>=6.0->jupyter_contrib_nbextensions->-r requirements.txt (line 10)) (6.1.0)\n",
      "Requirement already satisfied: defusedxml in ./.venv/lib/python3.11/site-packages (from nbconvert>=6.0->jupyter_contrib_nbextensions->-r requirements.txt (line 10)) (0.7.1)\n",
      "Requirement already satisfied: jinja2>=3.0 in ./.venv/lib/python3.11/site-packages (from nbconvert>=6.0->jupyter_contrib_nbextensions->-r requirements.txt (line 10)) (3.1.3)\n",
      "Requirement already satisfied: jupyterlab-pygments in ./.venv/lib/python3.11/site-packages (from nbconvert>=6.0->jupyter_contrib_nbextensions->-r requirements.txt (line 10)) (0.3.0)\n",
      "Requirement already satisfied: markupsafe>=2.0 in ./.venv/lib/python3.11/site-packages (from nbconvert>=6.0->jupyter_contrib_nbextensions->-r requirements.txt (line 10)) (2.1.5)\n",
      "Requirement already satisfied: mistune<4,>=2.0.3 in ./.venv/lib/python3.11/site-packages (from nbconvert>=6.0->jupyter_contrib_nbextensions->-r requirements.txt (line 10)) (3.0.2)\n",
      "Requirement already satisfied: nbclient>=0.5.0 in ./.venv/lib/python3.11/site-packages (from nbconvert>=6.0->jupyter_contrib_nbextensions->-r requirements.txt (line 10)) (0.9.0)\n",
      "Requirement already satisfied: nbformat>=5.7 in ./.venv/lib/python3.11/site-packages (from nbconvert>=6.0->jupyter_contrib_nbextensions->-r requirements.txt (line 10)) (5.9.2)\n",
      "Requirement already satisfied: pandocfilters>=1.4.1 in ./.venv/lib/python3.11/site-packages (from nbconvert>=6.0->jupyter_contrib_nbextensions->-r requirements.txt (line 10)) (1.5.1)\n",
      "Requirement already satisfied: tinycss2 in ./.venv/lib/python3.11/site-packages (from nbconvert>=6.0->jupyter_contrib_nbextensions->-r requirements.txt (line 10)) (1.2.1)\n",
      "Requirement already satisfied: platformdirs>=2.5 in ./.venv/lib/python3.11/site-packages (from jupyter_core->jupyter_contrib_nbextensions->-r requirements.txt (line 10)) (4.2.0)\n",
      "Requirement already satisfied: jupyter-server<3,>=2.4.0 in ./.venv/lib/python3.11/site-packages (from notebook>=6.0->jupyter_contrib_nbextensions->-r requirements.txt (line 10)) (2.12.5)\n",
      "Requirement already satisfied: jupyterlab-server<3,>=2.22.1 in ./.venv/lib/python3.11/site-packages (from notebook>=6.0->jupyter_contrib_nbextensions->-r requirements.txt (line 10)) (2.25.2)\n",
      "Requirement already satisfied: jupyterlab<4.1,>=4.0.2 in ./.venv/lib/python3.11/site-packages (from notebook>=6.0->jupyter_contrib_nbextensions->-r requirements.txt (line 10)) (4.0.12)\n",
      "Requirement already satisfied: notebook-shim<0.3,>=0.2 in ./.venv/lib/python3.11/site-packages (from notebook>=6.0->jupyter_contrib_nbextensions->-r requirements.txt (line 10)) (0.2.3)\n",
      "Requirement already satisfied: annotated-types>=0.4.0 in ./.venv/lib/python3.11/site-packages (from pydantic>=1.10.8->qdrant-client[fastembed]->-r requirements.txt (line 5)) (0.6.0)\n",
      "Requirement already satisfied: pydantic-core==2.16.2 in ./.venv/lib/python3.11/site-packages (from pydantic>=1.10.8->qdrant-client[fastembed]->-r requirements.txt (line 5)) (2.16.2)\n",
      "Requirement already satisfied: six>=1.5 in ./.venv/lib/python3.11/site-packages (from python-dateutil>=2.8.2->pandas->-r requirements.txt (line 2)) (1.16.0)\n",
      "Requirement already satisfied: charset-normalizer<4,>=2 in ./.venv/lib/python3.11/site-packages (from requests<3.0,>=2.31->fastembed==0.1.1->qdrant-client[fastembed]->-r requirements.txt (line 5)) (3.3.2)\n",
      "Requirement already satisfied: greenlet!=0.4.17 in ./.venv/lib/python3.11/site-packages (from SQLAlchemy<3,>=1.4->langchain->-r requirements.txt (line 8)) (3.0.3)\n",
      "Requirement already satisfied: sympy in ./.venv/lib/python3.11/site-packages (from torch>=1.11.0->sentence-transformers->-r requirements.txt (line 4)) (1.12)\n",
      "Requirement already satisfied: networkx in ./.venv/lib/python3.11/site-packages (from torch>=1.11.0->sentence-transformers->-r requirements.txt (line 4)) (3.2.1)\n",
      "Requirement already satisfied: nvidia-cuda-nvrtc-cu12==12.1.105 in ./.venv/lib/python3.11/site-packages (from torch>=1.11.0->sentence-transformers->-r requirements.txt (line 4)) (12.1.105)\n",
      "Requirement already satisfied: nvidia-cuda-runtime-cu12==12.1.105 in ./.venv/lib/python3.11/site-packages (from torch>=1.11.0->sentence-transformers->-r requirements.txt (line 4)) (12.1.105)\n",
      "Requirement already satisfied: nvidia-cuda-cupti-cu12==12.1.105 in ./.venv/lib/python3.11/site-packages (from torch>=1.11.0->sentence-transformers->-r requirements.txt (line 4)) (12.1.105)\n",
      "Requirement already satisfied: nvidia-cudnn-cu12==8.9.2.26 in ./.venv/lib/python3.11/site-packages (from torch>=1.11.0->sentence-transformers->-r requirements.txt (line 4)) (8.9.2.26)\n",
      "Requirement already satisfied: nvidia-cublas-cu12==12.1.3.1 in ./.venv/lib/python3.11/site-packages (from torch>=1.11.0->sentence-transformers->-r requirements.txt (line 4)) (12.1.3.1)\n",
      "Requirement already satisfied: nvidia-cufft-cu12==11.0.2.54 in ./.venv/lib/python3.11/site-packages (from torch>=1.11.0->sentence-transformers->-r requirements.txt (line 4)) (11.0.2.54)\n",
      "Requirement already satisfied: nvidia-curand-cu12==10.3.2.106 in ./.venv/lib/python3.11/site-packages (from torch>=1.11.0->sentence-transformers->-r requirements.txt (line 4)) (10.3.2.106)\n",
      "Requirement already satisfied: nvidia-cusolver-cu12==11.4.5.107 in ./.venv/lib/python3.11/site-packages (from torch>=1.11.0->sentence-transformers->-r requirements.txt (line 4)) (11.4.5.107)\n",
      "Requirement already satisfied: nvidia-cusparse-cu12==12.1.0.106 in ./.venv/lib/python3.11/site-packages (from torch>=1.11.0->sentence-transformers->-r requirements.txt (line 4)) (12.1.0.106)\n",
      "Requirement already satisfied: nvidia-nccl-cu12==2.19.3 in ./.venv/lib/python3.11/site-packages (from torch>=1.11.0->sentence-transformers->-r requirements.txt (line 4)) (2.19.3)\n",
      "Requirement already satisfied: nvidia-nvtx-cu12==12.1.105 in ./.venv/lib/python3.11/site-packages (from torch>=1.11.0->sentence-transformers->-r requirements.txt (line 4)) (12.1.105)\n",
      "Requirement already satisfied: triton==2.2.0 in ./.venv/lib/python3.11/site-packages (from torch>=1.11.0->sentence-transformers->-r requirements.txt (line 4)) (2.2.0)\n",
      "Requirement already satisfied: nvidia-nvjitlink-cu12 in ./.venv/lib/python3.11/site-packages (from nvidia-cusolver-cu12==11.4.5.107->torch>=1.11.0->sentence-transformers->-r requirements.txt (line 4)) (12.3.101)\n",
      "Requirement already satisfied: regex!=2019.12.17 in ./.venv/lib/python3.11/site-packages (from transformers<5.0.0,>=4.32.0->sentence-transformers->-r requirements.txt (line 4)) (2023.12.25)\n",
      "Requirement already satisfied: safetensors>=0.3.1 in ./.venv/lib/python3.11/site-packages (from transformers<5.0.0,>=4.32.0->sentence-transformers->-r requirements.txt (line 4)) (0.4.2)\n",
      "Requirement already satisfied: click in ./.venv/lib/python3.11/site-packages (from nltk->sentence-transformers->-r requirements.txt (line 4)) (8.1.7)\n",
      "Requirement already satisfied: joblib in ./.venv/lib/python3.11/site-packages (from nltk->sentence-transformers->-r requirements.txt (line 4)) (1.3.2)\n",
      "Requirement already satisfied: threadpoolctl>=2.0.0 in ./.venv/lib/python3.11/site-packages (from scikit-learn->sentence-transformers->-r requirements.txt (line 4)) (3.2.0)\n",
      "Requirement already satisfied: webencodings in ./.venv/lib/python3.11/site-packages (from bleach!=5.0.0->nbconvert>=6.0->jupyter_contrib_nbextensions->-r requirements.txt (line 10)) (0.5.1)\n",
      "Requirement already satisfied: hyperframe<7,>=6.0 in ./.venv/lib/python3.11/site-packages (from h2<5,>=3->httpx[http2]>=0.14.0->qdrant-client[fastembed]->-r requirements.txt (line 5)) (6.0.1)\n",
      "Requirement already satisfied: hpack<5,>=4.0 in ./.venv/lib/python3.11/site-packages (from h2<5,>=3->httpx[http2]>=0.14.0->qdrant-client[fastembed]->-r requirements.txt (line 5)) (4.0.0)\n",
      "Requirement already satisfied: parso<0.9.0,>=0.8.3 in ./.venv/lib/python3.11/site-packages (from jedi>=0.16->ipython>=6.1.0->ipywidgets->-r requirements.txt (line 11)) (0.8.3)\n",
      "Requirement already satisfied: argon2-cffi in ./.venv/lib/python3.11/site-packages (from jupyter-server<3,>=2.4.0->notebook>=6.0->jupyter_contrib_nbextensions->-r requirements.txt (line 10)) (23.1.0)\n",
      "Requirement already satisfied: jupyter-client>=7.4.4 in ./.venv/lib/python3.11/site-packages (from jupyter-server<3,>=2.4.0->notebook>=6.0->jupyter_contrib_nbextensions->-r requirements.txt (line 10)) (8.6.0)\n",
      "Requirement already satisfied: jupyter-events>=0.9.0 in ./.venv/lib/python3.11/site-packages (from jupyter-server<3,>=2.4.0->notebook>=6.0->jupyter_contrib_nbextensions->-r requirements.txt (line 10)) (0.9.0)\n",
      "Requirement already satisfied: jupyter-server-terminals in ./.venv/lib/python3.11/site-packages (from jupyter-server<3,>=2.4.0->notebook>=6.0->jupyter_contrib_nbextensions->-r requirements.txt (line 10)) (0.5.2)\n",
      "Requirement already satisfied: overrides in ./.venv/lib/python3.11/site-packages (from jupyter-server<3,>=2.4.0->notebook>=6.0->jupyter_contrib_nbextensions->-r requirements.txt (line 10)) (7.7.0)\n",
      "Requirement already satisfied: prometheus-client in ./.venv/lib/python3.11/site-packages (from jupyter-server<3,>=2.4.0->notebook>=6.0->jupyter_contrib_nbextensions->-r requirements.txt (line 10)) (0.19.0)\n",
      "Requirement already satisfied: pyzmq>=24 in ./.venv/lib/python3.11/site-packages (from jupyter-server<3,>=2.4.0->notebook>=6.0->jupyter_contrib_nbextensions->-r requirements.txt (line 10)) (25.1.2)\n",
      "Requirement already satisfied: send2trash>=1.8.2 in ./.venv/lib/python3.11/site-packages (from jupyter-server<3,>=2.4.0->notebook>=6.0->jupyter_contrib_nbextensions->-r requirements.txt (line 10)) (1.8.2)\n",
      "Requirement already satisfied: terminado>=0.8.3 in ./.venv/lib/python3.11/site-packages (from jupyter-server<3,>=2.4.0->notebook>=6.0->jupyter_contrib_nbextensions->-r requirements.txt (line 10)) (0.18.0)\n",
      "Requirement already satisfied: websocket-client in ./.venv/lib/python3.11/site-packages (from jupyter-server<3,>=2.4.0->notebook>=6.0->jupyter_contrib_nbextensions->-r requirements.txt (line 10)) (1.7.0)\n",
      "Requirement already satisfied: async-lru>=1.0.0 in ./.venv/lib/python3.11/site-packages (from jupyterlab<4.1,>=4.0.2->notebook>=6.0->jupyter_contrib_nbextensions->-r requirements.txt (line 10)) (2.0.4)\n",
      "Requirement already satisfied: ipykernel in ./.venv/lib/python3.11/site-packages (from jupyterlab<4.1,>=4.0.2->notebook>=6.0->jupyter_contrib_nbextensions->-r requirements.txt (line 10)) (6.29.0)\n",
      "Requirement already satisfied: jupyter-lsp>=2.0.0 in ./.venv/lib/python3.11/site-packages (from jupyterlab<4.1,>=4.0.2->notebook>=6.0->jupyter_contrib_nbextensions->-r requirements.txt (line 10)) (2.2.2)\n",
      "Requirement already satisfied: babel>=2.10 in ./.venv/lib/python3.11/site-packages (from jupyterlab-server<3,>=2.22.1->notebook>=6.0->jupyter_contrib_nbextensions->-r requirements.txt (line 10)) (2.14.0)\n",
      "Requirement already satisfied: json5>=0.9.0 in ./.venv/lib/python3.11/site-packages (from jupyterlab-server<3,>=2.22.1->notebook>=6.0->jupyter_contrib_nbextensions->-r requirements.txt (line 10)) (0.9.14)\n",
      "Requirement already satisfied: jsonschema>=4.18.0 in ./.venv/lib/python3.11/site-packages (from jupyterlab-server<3,>=2.22.1->notebook>=6.0->jupyter_contrib_nbextensions->-r requirements.txt (line 10)) (4.21.1)\n",
      "Requirement already satisfied: fastjsonschema in ./.venv/lib/python3.11/site-packages (from nbformat>=5.7->nbconvert>=6.0->jupyter_contrib_nbextensions->-r requirements.txt (line 10)) (2.19.1)\n",
      "Requirement already satisfied: coloredlogs in ./.venv/lib/python3.11/site-packages (from onnxruntime<2.0,>=1.15->fastembed==0.1.1->qdrant-client[fastembed]->-r requirements.txt (line 5)) (15.0.1)\n",
      "Requirement already satisfied: flatbuffers in ./.venv/lib/python3.11/site-packages (from onnxruntime<2.0,>=1.15->fastembed==0.1.1->qdrant-client[fastembed]->-r requirements.txt (line 5)) (23.5.26)\n",
      "Requirement already satisfied: ptyprocess>=0.5 in ./.venv/lib/python3.11/site-packages (from pexpect>4.3->ipython>=6.1.0->ipywidgets->-r requirements.txt (line 11)) (0.7.0)\n",
      "Requirement already satisfied: wcwidth in ./.venv/lib/python3.11/site-packages (from prompt-toolkit<3.1.0,>=3.0.41->ipython>=6.1.0->ipywidgets->-r requirements.txt (line 11)) (0.2.13)\n",
      "Requirement already satisfied: mypy-extensions>=0.3.0 in ./.venv/lib/python3.11/site-packages (from typing-inspect<1,>=0.4.0->dataclasses-json<0.7,>=0.5.7->langchain->-r requirements.txt (line 8)) (1.0.0)\n",
      "Requirement already satisfied: soupsieve>1.2 in ./.venv/lib/python3.11/site-packages (from beautifulsoup4->nbconvert>=6.0->jupyter_contrib_nbextensions->-r requirements.txt (line 10)) (2.5)\n",
      "Requirement already satisfied: executing>=1.2.0 in ./.venv/lib/python3.11/site-packages (from stack-data->ipython>=6.1.0->ipywidgets->-r requirements.txt (line 11)) (2.0.1)\n",
      "Requirement already satisfied: asttokens>=2.1.0 in ./.venv/lib/python3.11/site-packages (from stack-data->ipython>=6.1.0->ipywidgets->-r requirements.txt (line 11)) (2.4.1)\n",
      "Requirement already satisfied: pure-eval in ./.venv/lib/python3.11/site-packages (from stack-data->ipython>=6.1.0->ipywidgets->-r requirements.txt (line 11)) (0.2.2)\n",
      "Requirement already satisfied: mpmath>=0.19 in ./.venv/lib/python3.11/site-packages (from sympy->torch>=1.11.0->sentence-transformers->-r requirements.txt (line 4)) (1.3.0)\n",
      "Requirement already satisfied: jsonschema-specifications>=2023.03.6 in ./.venv/lib/python3.11/site-packages (from jsonschema>=4.18.0->jupyterlab-server<3,>=2.22.1->notebook>=6.0->jupyter_contrib_nbextensions->-r requirements.txt (line 10)) (2023.12.1)\n",
      "Requirement already satisfied: referencing>=0.28.4 in ./.venv/lib/python3.11/site-packages (from jsonschema>=4.18.0->jupyterlab-server<3,>=2.22.1->notebook>=6.0->jupyter_contrib_nbextensions->-r requirements.txt (line 10)) (0.33.0)\n",
      "Requirement already satisfied: rpds-py>=0.7.1 in ./.venv/lib/python3.11/site-packages (from jsonschema>=4.18.0->jupyterlab-server<3,>=2.22.1->notebook>=6.0->jupyter_contrib_nbextensions->-r requirements.txt (line 10)) (0.17.1)\n",
      "Requirement already satisfied: python-json-logger>=2.0.4 in ./.venv/lib/python3.11/site-packages (from jupyter-events>=0.9.0->jupyter-server<3,>=2.4.0->notebook>=6.0->jupyter_contrib_nbextensions->-r requirements.txt (line 10)) (2.0.7)\n",
      "Requirement already satisfied: rfc3339-validator in ./.venv/lib/python3.11/site-packages (from jupyter-events>=0.9.0->jupyter-server<3,>=2.4.0->notebook>=6.0->jupyter_contrib_nbextensions->-r requirements.txt (line 10)) (0.1.4)\n",
      "Requirement already satisfied: rfc3986-validator>=0.1.1 in ./.venv/lib/python3.11/site-packages (from jupyter-events>=0.9.0->jupyter-server<3,>=2.4.0->notebook>=6.0->jupyter_contrib_nbextensions->-r requirements.txt (line 10)) (0.1.1)\n",
      "Requirement already satisfied: argon2-cffi-bindings in ./.venv/lib/python3.11/site-packages (from argon2-cffi->jupyter-server<3,>=2.4.0->notebook>=6.0->jupyter_contrib_nbextensions->-r requirements.txt (line 10)) (21.2.0)\n",
      "Requirement already satisfied: humanfriendly>=9.1 in ./.venv/lib/python3.11/site-packages (from coloredlogs->onnxruntime<2.0,>=1.15->fastembed==0.1.1->qdrant-client[fastembed]->-r requirements.txt (line 5)) (10.0)\n",
      "Requirement already satisfied: debugpy>=1.6.5 in ./.venv/lib/python3.11/site-packages (from ipykernel->jupyterlab<4.1,>=4.0.2->notebook>=6.0->jupyter_contrib_nbextensions->-r requirements.txt (line 10)) (1.8.0)\n",
      "Requirement already satisfied: nest-asyncio in ./.venv/lib/python3.11/site-packages (from ipykernel->jupyterlab<4.1,>=4.0.2->notebook>=6.0->jupyter_contrib_nbextensions->-r requirements.txt (line 10)) (1.6.0)\n",
      "Requirement already satisfied: psutil in ./.venv/lib/python3.11/site-packages (from ipykernel->jupyterlab<4.1,>=4.0.2->notebook>=6.0->jupyter_contrib_nbextensions->-r requirements.txt (line 10)) (5.9.8)\n",
      "Requirement already satisfied: fqdn in ./.venv/lib/python3.11/site-packages (from jsonschema>=4.18.0->jupyterlab-server<3,>=2.22.1->notebook>=6.0->jupyter_contrib_nbextensions->-r requirements.txt (line 10)) (1.5.1)\n",
      "Requirement already satisfied: isoduration in ./.venv/lib/python3.11/site-packages (from jsonschema>=4.18.0->jupyterlab-server<3,>=2.22.1->notebook>=6.0->jupyter_contrib_nbextensions->-r requirements.txt (line 10)) (20.11.0)\n",
      "Requirement already satisfied: uri-template in ./.venv/lib/python3.11/site-packages (from jsonschema>=4.18.0->jupyterlab-server<3,>=2.22.1->notebook>=6.0->jupyter_contrib_nbextensions->-r requirements.txt (line 10)) (1.3.0)\n",
      "Requirement already satisfied: webcolors>=1.11 in ./.venv/lib/python3.11/site-packages (from jsonschema>=4.18.0->jupyterlab-server<3,>=2.22.1->notebook>=6.0->jupyter_contrib_nbextensions->-r requirements.txt (line 10)) (1.13)\n",
      "Requirement already satisfied: cffi>=1.0.1 in ./.venv/lib/python3.11/site-packages (from argon2-cffi-bindings->argon2-cffi->jupyter-server<3,>=2.4.0->notebook>=6.0->jupyter_contrib_nbextensions->-r requirements.txt (line 10)) (1.16.0)\n",
      "Requirement already satisfied: pycparser in ./.venv/lib/python3.11/site-packages (from cffi>=1.0.1->argon2-cffi-bindings->argon2-cffi->jupyter-server<3,>=2.4.0->notebook>=6.0->jupyter_contrib_nbextensions->-r requirements.txt (line 10)) (2.21)\n",
      "Requirement already satisfied: arrow>=0.15.0 in ./.venv/lib/python3.11/site-packages (from isoduration->jsonschema>=4.18.0->jupyterlab-server<3,>=2.22.1->notebook>=6.0->jupyter_contrib_nbextensions->-r requirements.txt (line 10)) (1.3.0)\n",
      "Requirement already satisfied: types-python-dateutil>=2.8.10 in ./.venv/lib/python3.11/site-packages (from arrow>=0.15.0->isoduration->jsonschema>=4.18.0->jupyterlab-server<3,>=2.22.1->notebook>=6.0->jupyter_contrib_nbextensions->-r requirements.txt (line 10)) (2.8.19.20240106)\n",
      "Note: you may need to restart the kernel to use updated packages.\n"
     ]
    }
   ],
   "source": [
    "%pip install -r requirements.txt\n",
    "#!jupyter nbextension enable --py widgetsnbextension\n"
   ]
  },
  {
   "cell_type": "code",
   "execution_count": 15,
   "metadata": {},
   "outputs": [
    {
     "name": "stdout",
     "output_type": "stream",
     "text": [
      "Columns: Index(['title', 'plot'], dtype='object') , Records: 11\n"
     ]
    }
   ],
   "source": [
    "import pandas as pd\n",
    "import numpy as np\n",
    "\n",
    "# Load the data\n",
    "df = pd.read_json('datasets/star_wars_plots.json')\n",
    "print('Columns:', df.columns, ', Records:', df.shape[0])\n",
    "df.head()\n",
    "startwars_movies = df"
   ]
  },
  {
   "cell_type": "markdown",
   "metadata": {},
   "source": [
    "### Creamos embeddings del argumento de las películas"
   ]
  },
  {
   "cell_type": "code",
   "execution_count": 16,
   "metadata": {},
   "outputs": [
    {
     "name": "stdout",
     "output_type": "stream",
     "text": [
      "Dimension: 1536 [0.014705708250403404, -0.053972844034433365] ... [0.04716505482792854, -0.02482839673757553]\n"
     ]
    }
   ],
   "source": [
    "import openai\n",
    "import os\n",
    "from dotenv import load_dotenv\n",
    "\n",
    "load_dotenv()\n",
    "\n",
    "openai.api_key = os.getenv(\"OPENAI_API_KEY\")\n",
    "\n",
    "client = openai.Client()\n",
    "# New embeddings: https://openai.com/blog/new-embedding-models-and-api-updates\n",
    "# Embedding guide: https://platform.openai.com/docs/guides/embeddings\n",
    "# Pricing: https://openai.com/pricing#language-models\n",
    "EMBEDDING_MODEL = \"text-embedding-3-small\"\n",
    "\n",
    "text_sample = \"Hace mucho tiempo en una galaxia muy, muy lejana ...\"\n",
    "response = client.embeddings.create(model=EMBEDDING_MODEL, input=text_sample)\n",
    "vector = response.data[0].embedding\n",
    "print('Dimension:', len(vector), vector[:2], '...', vector[-2:])\n",
    "\n"
   ]
  },
  {
   "cell_type": "markdown",
   "metadata": {},
   "source": [
    "### Preparamos langchain para hacer búsquedas semánticas"
   ]
  },
  {
   "cell_type": "code",
   "execution_count": 17,
   "metadata": {},
   "outputs": [
    {
     "name": "stdout",
     "output_type": "stream",
     "text": [
      "Vectors: 2 Dimension: 1536 [0.014705707666277976, -0.05397284189057806] ... [0.047165052954485434, -0.024828395751366802]\n"
     ]
    }
   ],
   "source": [
    "# LangChain Doc: https://python.langchain.com/docs/get_started/introduction\n",
    "from langchain.embeddings.openai import OpenAIEmbeddings\n",
    "\n",
    "oai_embedding = OpenAIEmbeddings(\n",
    "    model=EMBEDDING_MODEL,\n",
    "    openai_api_key=os.getenv(\"OPENAI_API_KEY\")\n",
    ")\n",
    "\n",
    "# Embedding texto: oaie.embed_query(text_sample)\n",
    "\n",
    "r = oai_embedding.embed_documents([text_sample, text_sample], 16)\n",
    "MODEL_DIMENSION = len(r[0])\n",
    "print('Vectors:', len(r), 'Dimension:', MODEL_DIMENSION, r[0][:2], '...', r[0][-2:])\n",
    "\n",
    "\n"
   ]
  },
  {
   "cell_type": "code",
   "execution_count": 39,
   "metadata": {},
   "outputs": [
    {
     "name": "stdout",
     "output_type": "stream",
     "text": [
      "0 Star Wars: Episodio IV - Una nueva esperanza  => chunks: 8\n",
      "1 Star Wars: Episodio V - El Imperio contraataca  => chunks: 12\n",
      "2 Star Wars: Episode VI - Return of the Jedi  => chunks: 17\n",
      "3 Star Wars: Episodio I - La amenaza fantasma  => chunks: 5\n",
      "4 Star Wars: Episodio II - El ataque de los clones  => chunks: 13\n",
      "5 Star Wars: Episodio III - La venganza de los Sith  => chunks: 28\n",
      "6 Star Wars: Episodio VII - El despertar de la Fuerza  => chunks: 20\n",
      "7 Star Wars: Episodio VIII - Los últimos Jedi  => chunks: 16\n",
      "8 Star Wars: Episodio IX - El ascenso de Skywalker  => chunks: 17\n",
      "9 Rogue One: una historia de Star Wars  => chunks: 20\n",
      "10 Han Solo: una historia de Star Wars  => chunks: 6\n",
      "\n",
      "Total documents: 162\n",
      "🎞️ ➡️ Star Wars: Episodio IV - Una nueva esperanza 📄 => Hace mucho tiempo en una galaxia muy, muy lejana ... Son tiempos de guerra civil. Naves rebeldes han\n",
      "🎞️ ➡️ Star Wars: Episodio IV - Una nueva esperanza 📄 => Darth Vader a la cabeza. Durante el asalto, capturan a la princesa, quien antes logra depositar los \n",
      "🎞️ ➡️ Star Wars: Episodio IV - Una nueva esperanza 📄 => travesía, son atacados por «moradores de las arenas», siendo finalmente rescatados por un sujeto enc\n",
      "🎞️ ➡️ Star Wars: Episodio IV - Una nueva esperanza 📄 => todos sus habitantes. Al regresar a su casa, Luke encuentra los cadáveres carbonizados de sus tíos. \n"
     ]
    }
   ],
   "source": [
    "from langchain_community.docstore.document import Document\n",
    "CHUNK_WORDS = 200 # OpenAI model soporta hasta 8000 tokens (aprox)\n",
    "\n",
    "# Creamos chunks de texto de unas 170 palabras con un solape de 10 palabras\n",
    "def chunk_text(text, chunk_size=CHUNK_WORDS, overlap=CHUNK_WORDS//20):\n",
    "    chunks = []\n",
    "    words = text.split()\n",
    "    for i in range(0, len(words), chunk_size-overlap):\n",
    "        chunks.append(' '.join(words[i:i+chunk_size]))\n",
    "    return chunks\n",
    "\n",
    "def create_docs_from_df(df, text_column='plot', chunk_size=CHUNK_WORDS):\n",
    "    docs = []\n",
    "    for i, row in df.iterrows():\n",
    "        plot_chunks = chunk_text(row[text_column], chunk_size)\n",
    "        for chunk in plot_chunks:\n",
    "            metadata = dict(title=row['title'])\n",
    "            metadata['plot_chunk'] = chunk\n",
    "            doc = Document(page_content=chunk, metadata=metadata)\n",
    "            docs.append(doc)\n",
    "\n",
    "        print(i, row['title'], ' => chunks:', len(plot_chunks))\n",
    "\n",
    "    print('\\nTotal documents:', len(docs))\n",
    "    for d in docs[:4]:\n",
    "        print('🎞️ ➡️', d.metadata['title'], '📄 =>', d.page_content[:100])\n",
    "    return docs\n",
    "\n",
    "documents = create_docs_from_df(startwars_movies)\n"
   ]
  },
  {
   "cell_type": "markdown",
   "metadata": {},
   "source": [
    "### Conectamos con Qdrant para crear una colección y alimentarla con los embeddings\n"
   ]
  },
  {
   "cell_type": "code",
   "execution_count": 19,
   "metadata": {},
   "outputs": [
    {
     "name": "stdout",
     "output_type": "stream",
     "text": [
      "Collections collections=[CollectionDescription(name='movies_sw'), CollectionDescription(name='movies_sw_openai')]\n"
     ]
    }
   ],
   "source": [
    "from langchain.vectorstores import Qdrant\n",
    "from qdrant_client import QdrantClient\n",
    "from qdrant_client.models import VectorParams, Distance\n",
    "\n",
    "MOVIES_COLLECTION = \"movies_sw_openai\"\n",
    "\n",
    "\n",
    "client = QdrantClient(host=\"localhost\", prefer_grpc=True)\n",
    "client.recreate_collection(MOVIES_COLLECTION, VectorParams(size=MODEL_DIMENSION, distance=Distance.COSINE))\n",
    "\n",
    "# Qdrant store: https://python.langchain.com/docs/integrations/vectorstores/qdrant\n",
    "qdrant = Qdrant(\n",
    "    client=client,\n",
    "    collection_name=MOVIES_COLLECTION,\n",
    "    embeddings=oai_embedding\n",
    ")\n",
    "print('Collections', qdrant.client.get_collections())\n",
    "\n"
   ]
  },
  {
   "cell_type": "code",
   "execution_count": 20,
   "metadata": {},
   "outputs": [
    {
     "name": "stdout",
     "output_type": "stream",
     "text": [
      "IDs: ['ebbc1f954b054d6eb4b1ba29a36dc554', 'a2deb8af583942d9be841bf3748fc9b2'] ... ['a35818d8bbd840efade4a2caa9715925', 'e16cb3df6f97427ebc7b14865776b2c2']\n",
      "Collections: [CollectionDescription(name='movies_sw'), CollectionDescription(name='movies_sw_openai')]\n",
      "Collection: movies_sw_openai rows: status=<CollectionStatus.GREEN: 'green'> optimizer_status=<OptimizersStatusOneOf.OK: 'ok'> vectors_count=162 indexed_vectors_count=0 points_count=162 segments_count=8 config=CollectionConfig(params=CollectionParams(vectors=VectorParams(size=1536, distance=<Distance.COSINE: 'Cosine'>, hnsw_config=None, quantization_config=None, on_disk=None), shard_number=1, sharding_method=None, replication_factor=1, write_consistency_factor=1, read_fan_out_factor=None, on_disk_payload=True, sparse_vectors=None), hnsw_config=HnswConfig(m=16, ef_construct=100, full_scan_threshold=10000, max_indexing_threads=0, on_disk=False, payload_m=None), optimizer_config=OptimizersConfig(deleted_threshold=0.2, vacuum_min_vector_number=1000, default_segment_number=0, max_segment_size=None, memmap_threshold=None, indexing_threshold=20000, flush_interval_sec=5, max_optimization_threads=1), wal_config=WalConfig(wal_capacity_mb=32, wal_segments_ahead=0), quantization_config=None) payload_schema={}\n"
     ]
    }
   ],
   "source": [
    "op = qdrant.add_documents(documents)\n",
    "\n",
    "print('IDs:', op[:2], '...', op[-2:])\n",
    "print('Collections:', client.get_collections().collections)\n",
    "print('Collection:', MOVIES_COLLECTION, 'rows:', client.get_collection(MOVIES_COLLECTION))\n",
    "\n"
   ]
  },
  {
   "cell_type": "markdown",
   "metadata": {},
   "source": [
    "### Realizamos búsquedas semánticas sobre la saga Star Wars"
   ]
  },
  {
   "cell_type": "code",
   "execution_count": 21,
   "metadata": {},
   "outputs": [
    {
     "name": "stdout",
     "output_type": "stream",
     "text": [
      "Q: Anakin gana una carrera cuando era un niño\n",
      "      0.6705865859985352  =>  Star Wars: Episodio I - La amenaza fantasma\n",
      "      (id: 7f5614fe-f8d9-4312-bd6f-fc77264e7418) el niño gana la carrera, se quedarán con los repuestos para la nave y con la libertad de Anakin. Watto acepta, al creer que el mayor oponente de Anakin, Sebulba, le ganaría.Ya en la carrera, Anakin tiene problemas ya que Sebulba había roto un elemento de su pod. Sin embargo, el niño se las ingenia para estabilizar la nave y finalmente gana la carrera. Luego de una emotiva despedida entre Shmi y Anakin, todos se dirigen hacia la nave de la Reina para trasladarse hacia Coruscant, capital de la República. Antes de llegar a la nave, Qui-Gon es sorprendido por el aprendiz de Lord Sidious, Darth Maul, y mantienen una pequeña lucha con sus sables. Finalmente, Qui-Gon logra huir en la nave. Una vez en Coruscant, Qui-Gon y Obi-Wan se dirigen hacia el Consejo Jedi para proponer el entrenamiento de Anakin, pero es rechazado debido a que el consejo se opuso a ello porque no veían a Anakin como El elegido. Sin embargo, Qui-Gon, por su parte, decide dar término al entrenamiento de Obi-Wan para así poder entrenar a Anakin él mismo. Al mismo tiempo, el senador Palpatine convence a Padmé de votar en contra del Canciller Supremo Valorum por\n",
      "      0.5492883324623108  =>  Star Wars: Episodio I - La amenaza fantasma\n",
      "      (id: 27027052-ebc8-44f2-acdd-7025ba39968e) agua, son atacados por distintas clases de criaturas. Al llegar a Naboo liberan a su soberana y a su grupo.[Archivo:Scala_Reggia_Casertana.jpg]Vistas al interior del Palacio Royal de Naboo.Todos escapan en la nave de la Reina, en dirección al planeta Coruscant, pero al salir del planeta son atacados por flotas de la Federación, y resulta dañada. Por esa razón, deben aterrizar en el planeta Tatooine para repararla. Allí se dirigen hacia un negocio de repuestos atendido por Watto, quien posee como esclavo a un niño llamado Anakin Skywalker. Allí se produce un acercamiento entre Padmé y Anakin. Al salir del local, se desata una tormenta de arena, por lo cual Anakin les ofrece refugio a Qui-Gon, Jar Jar y Padmé en su casa. Una vez allí, Qui-Gon le explica a la madre de Anakin, Shmi Skywalker, que siente una presencia fuerte de la Fuerza en el niño. Qui-Gon presiente que Anakin podría ser el Elegido de la profecía Jedi, que aportaría equilibrio a la Fuerza. Anakin les cuenta que es «experto» en un juego de carreras llamado podracing, y que preparaba una nave para participar. Qui-Gon le apuesta a Watto que si el niño gana la carrera, se quedarán con los repuestos\n",
      "      0.5361913442611694  =>  Star Wars: Episodio III - La venganza de los Sith\n",
      "      (id: ef5ddb53-d87e-4397-80b1-76b74c970246) Anakin comienza a ser perturbado por numerosas pesadillas, en las que tiene visiones de Padmé muriendo en el parto, similares a las que tenía de su madre, poco antes de que ella muriera en sus brazos.Al día siguiente, Obi-Wan le cuenta discretamente a Anakin que el Alto Consejo le ha asignado la tarea de espiar al Canciller, debido a la sospecha por su presunta corrupción en el Senado Galáctico con el fin de evitar ser relegado de su cargo político y sus facultades adquiridas durante la Guerra de los Clones. No obstante, el joven Jedi no está completamente seguro si debería asumir esa orden, puesto que el Canciller se ha convertido en su \"amigo y consejero\". A partir de su nombramiento como representante de la cancillería ante la Orden Jedi, Anakin ha comenzado a desarrollar una profunda amistad con Palpatine. Además, este ha intentado convencerlo sutilmente, en todas y cada una de sus conversaciones, sobre los privilegios exclusivos con los que cuenta el Lado Oscuro de la Fuerza. Uno de ellos es el aprendizaje de una habilidad oscura para prevenir la muerte de cualquier persona, algo que según Palpatine, solo pudo conseguir el Señor Oscuro de los Sith Darth Plagueis\n",
      "Q: Los clones reciben la orden de ejecutar a los Jedi\n",
      "      0.6936795711517334  =>  Star Wars: Episodio III - La venganza de los Sith\n",
      "      (id: f5d340fc-c7ea-4458-bd2d-b0fdaef8109e) consigue sobrevivir a la emboscada inicial, la cual sería llamada la Gran Purga Jedi y deciden ponerse a salvo con la ayuda del senador Bail Organa (Jimmy Smits), quien previamente había acudido al Templo Jedi a ver que estaba sucediendo, debido a los incendios y el caos, sin embargo el Comandante clon Appo lo había recibido en la entrada bajo la coartada de que había una supuesta rebelión y que la situación estaba bajo control. Sin embargo cuando Bail decidió insistir en entrar, el Comandante clon Appo lo amenaza con su rifle blaster y le menciona al senador que debía retirarse del Templo Jedi, pero justo cuando este se disponía a retirarse un padawan superviviente llamado Zett Jukassa trata de escapar con él, pero es rápidamente asesinado justo en frente de él y con este hecho el senador decide escapar rápido del templo a ver lo que realmente habían hecho los soldados clones. Mientras tanto Darth Vader, tras asesinar a todos los niños y jóvenes aprendices, acude con Padmé en su anterior identidad como Anakin y le revela que la Orden Jedi ha intentado apoderarse de la República y traicionar al Senado. Después acude al planeta Mustafar para cumplir con\n",
      "      0.678749680519104  =>  Star Wars: Episodio III - La venganza de los Sith\n",
      "      (id: df886487-902f-466b-b4fc-869a229ea95c) un nuevo lord Sith— jura lealtad a su nuevo maestro y comienza a ejecutar sus órdenes con el uso del Lado Oscuro de la Fuerza. Como su primera misión y como nuevo aprendiz de lord Sidious, Anakin es enviado a acudir al Templo Jedi para asesinar a todos los niños y demás aprendices de la Orden Jedi acompañado de sus tropas de la legión de soldados clones 501. A su vez, Darth Sidious envía sus órdenes precisas a los soldados clones activos en la galaxia, para eliminar a sus respectivos generales Jedi, mediante la promulgación de una directiva programada bajo la Orden Secreta Número 66. Con dicha resolución activada, el Comandante clon Cody desde el planeta Utapau rápidamente le ordena a sus tropas abrir fuego a traición y por la espalda contra Obi-Wan, el cual es impactado por el disparo, junto a su bestia que montaba en ese momento y se caen al vació, pero afortunadamente el maestro Jedi sobrevive a la caída y escapa secretamente del planeta por medio de la nave del difunto General Grievous, al mismo tiempo la mayoría de los maestros Jedi son rápidamente traicionados y asesinados por sus propias tropas de soldados clones sin piedad\n",
      "      0.6775898933410645  =>  Star Wars: Episodio III - La venganza de los Sith\n",
      "      (id: 55cc2ae4-180f-44ca-8fc9-bd02bb017bcd) Hace mucho tiempo en una galaxia muy, muy lejana [...] ¡Guerra! La República se desmorona bajo los ataques del despiadado Conde Dooku, señor de los Sith. Hay héroes en ambos bandos. El mal está por doquier. [...] En una maniobra audaz, el diabólico líder droide, General Grievous, ha entrado a la capital de la República y secuestrado al canciller Palpatine, líder del Senado Galáctico. [...] Mientras el Ejército Droide Separatista trata de huir de la asediada capital con su valioso rehén, dos caballeros Jedi dirigen una misión desesperada para rescatar al canciller cautivo...Texto introductorio.[3]La Guerra de los Clones continúa y el Canciller Palpatine (Ian McDiarmid) ha sido secuestrado por el Líder Separatista de la Confederación de Sistemas Independientes, el General Grievous (Matthew Wood). Los Jedi Obi-Wan Kenobi (Ewan McGregor) y Anakin Skywalker (Hayden Christensen) encabezan una misión para rescatar al Canciller y detener a Grievous. Después de abordar la nave \"La Mano Invisible\" y localizar al Canciller Palpatine, los Jedi tienen un encuentro con el Conde Dooku (Christopher Lee), en el cual Obi Wan es puesto fuera de combate. Anakin, por otro lado, siendo provocado todo el tiempo por Dooku, reduce al Sith amputándole ambas manos. Es aquí donde Anakin,\n",
      "Q: Han Solo gana el Halcón Milenario en una partida de cartas\n",
      "      0.6391735672950745  =>  Han Solo: una historia de Star Wars\n",
      "      (id: e16cb3df-6f97-427e-bc7b-14865776b2c2) quitarle mientras lo saludaba la carta con la que hizo trampa la última vez y gana la partida tomando posesión del Halcón Milenario. Después de ganar la apuesta, Han y Chewbacca abordan su nueva nave y se dirigen ahora hacia el planeta Tatooine, donde un gánster está formando un equipo para realizar un atraco.\n",
      "      0.573867678642273  =>  Han Solo: una historia de Star Wars\n",
      "      (id: a35818d8-bbd8-40ef-ade4-a2caa9715925) Vos, Qi'ra contacta a su superior, Darth Maul, ella le informa que Beckett asesinó a Vos y asume el liderazgo del sindicato Crimson Dawn, marchando al planeta Dathomir para encontrarse con Maul. Por otro lado, Han alcanza y mata a Beckett, recuperando el coaxium en el proceso, pero en ello este observa como Qi'ra abandona el planeta a bordo del yate de Vos, dejándole los Dados Dorados a Han para que este nunca la olvide.Momentos después, Han y Chewbacca le entregan el coaxium a Enfys y sus guerreros, quienes le ofrecen a Han la oportunidad de unirse a la rebelión contra el Imperio Galáctico. Sin embargo Han rechaza la oferta, pero al final recibe una lata del combustible coaxium en agradecimiento por su ayuda, suficiente para poder comprar su propia nave. Posteriormente el dúo rastrea nuevamente a Lando y lo desafía a una segunda partida de sabacc por la posesión del Halcón Milenario. Donde también, Han descubre que Lando le había ganado la última vez haciendo trampa, ya que este tenía una carta escondida debajo de la manga de su capa, sin embargo gracias a la astucia de Han, logra quitarle mientras lo saludaba la carta con la que hizo\n",
      "      0.5434553623199463  =>  Star Wars: Episodio V - El Imperio contraataca\n",
      "      (id: 75370a18-265c-4d61-afb3-9a54e8c5cabc) decide convencer al Emperador de que sería mejor opción tenerlo de su lado, convirtiéndolo al Lado Oscuro de la Fuerza.Mientras tanto, en el cráter del asteroide, un ataque de Mynocks altera a los pasajeros del Halcón Milenario. Han dispara una descarga con su blaster y el asteroide empieza a moverse. Finalmente se da cuenta de que no están en una cueva, sino que el túnel resulta ser el interior de un exogorth, un gusano espacial gigante. Esto obliga al Halcón a salir del asteroide y enfrentarse a la flota imperial. Mientras tanto, para disgusto del Almirante Piett y el resto del personal del imperio, Darth Vader contrata a seis cazarrecompensas, entre ellos el célebre Boba Fett, a bordo del Ejecutor y promete una gran recompensa a quien localice al Halcón Milenario y a sus tripulantes y se los traiga ante el con vida.En una gran maniobra de Han, logran esconderse justo detrás de la torre de vigilancia del destructor estelar Vengador. El capitán de la misma, Lorth Needa, se disculpa personalmente con Darth Vader por haber perdido a los rebeldes, este acepta la disculpa después de asesinarlo con la Fuerza. La tripulación, aún con el Halcón acoplado al Vengador, decide\n",
      "Q: Kylo Ren mata a su padre, Han Solo\n",
      "      0.7102046012878418  =>  Star Wars: Episodio VII - El despertar de la Fuerza\n",
      "      (id: 846c0b35-2c67-4fb2-ae4b-50056555bc4b) Han Solo se acerca a su hijo y habla con él acerca de llevarlo de regreso a casa. Rey, Finn y Chewbacca, habiendo terminado con los explosivos, notan desde lejos la reunión entre padre e hijo y permanecen observando. Kylo Ren alega que ya es demasiado tarde, pero Han insiste, diciendo que él ya sabe que Snoke solo lo está usando por su poder y que cuando ya no lo necesite más lo matará, además de que tanto Han como su madre Leia quieren que Ben regrese a casa. Kylo manifiesta que sabe que es lo que tiene que hacer, pero no sabe si tendrá la fuerza necesaria para lograrlo. Le pregunta a Han si le ayudaría, a lo que su padre responde comprometido \"Lo que sea\". Entonces con ambas manos abiertas le tiende hacia su padre la empuñadura de su sable de luz en un gesto de entrega. Han por su lado toma el sable de luz en un gesto de aceptación. En ese preciso momento la carga de energía solar para la superarma comienza a finalizar, extinguiendo casi toda la luz solar que caía sobre el planeta y sumiendo así todo en una oscuridad nocturna, incluyendo claro el\n",
      "      0.6968904733657837  =>  Star Wars: Episodio VII - El despertar de la Fuerza\n",
      "      (id: cf17d81c-5f82-4033-ac52-46800d5a0183) sumiendo así todo en una oscuridad nocturna, incluyendo claro el sector donde se encontraban. Cuando Han pretendió quitar su mano junto con el sable, notó que ahora sin embargo las manos de Kylo se aferraban con fuerza a la empuñadura, dirigiendo una mirada consternada hacia su hijo. Acto seguido Kylo Ren activa su sable de luz atravesando instantáneamente el pecho de su padre. Han contempla lo ocurrido horrorizado, mientras que su hijo le dice \"Gracias\". Al retraer el filo del sable, un moribundo Han toca con su mano la mejilla derecha de quien una vez su hijo antes de caer del puente donde se encontraban hacia el vacío que yacía debajo de ellos. Rey, Finn y Chewbacca observan atónitos e impotentes la situación, mientras que el cuerpo de Han cae en el profundo abismo. Luego un furioso Chewbacca inmediatamente le dispara a Kylo Ren en el costado izquierdo con su ballesta wookiee y después hace estallar las bombas cargadas, dañando las instalaciones, mientras que un escuadrón de naves furtivas X-Wing lideradas por Poe inician una ataque masivo sobre es puntos crucial del planeta-superarma con el fin de destruirla.Mientras tanto Rey y Finn huyen de las explosiones desencadenadas hasta el bosque\n",
      "      0.6602832078933716  =>  Star Wars: Episodio VIII - Los últimos Jedi\n",
      "      (id: 36e6f94c-f41b-4410-b9e8-7a3cfea8ed78) que se acumulaba lentamente en el y que la había visto por breves instantes durante su entrenamiento, pero después de que vio el interior de su sobrino se dio cuenta de que era mucho peor de lo que había imaginado, ya que Snoke había corrompido su corazón poco a poco sin que este se diera cuenta, tras lo cual Luke sin pensarlo un segundo y sin titubear encendió su sable de luz de color verde esmeralda por instinto. Sin embargo, este se arrepintió en el último segundo y se quedó con la vergüenza de lo que estaba haciendo y con las consecuencias de sus actos, luego menciona que lo último que vio de Ben Solo, cuando este despertó, fue la mirada de un joven asustado, cuyo maestro y principalmente tío suyo lo había traicionado. Incapaz de convencerlo de unirse a la Resistencia y de que puede reconvertir a Kylo Ren, ya que esta aun siente que todavía hay luz en el, pero ante la renuencia del maestro Jedi, la joven Rey decide dejar Ahch-To sin Luke, para enfrentarse a Kylo Ren por si sola. Mientras que Luke por su parte decide ir a quemar el árbol del templo que contiene\n",
      "Q: Palpatine es derrotado definitivamente por Rey\n",
      "      0.7042708396911621  =>  Star Wars: Episodio IX - El ascenso de Skywalker\n",
      "      (id: b0c4811b-423d-433e-a64f-8acb69005dd4) Jinn, Plo Koon, Ki-Adi Mundi, Mace Windu, Ahsoka Tano, Stass Allie, Kit Fisto, Luminara Unduli, Adi Gallia, Shaak Ti, Coleman Trebor, Kanan Jarrus y Aayla Secura, los cuales comienzan a animar a Rey a levantarse contra Palpatine, a medida que ella se reincorpora por las voces de los Jedis del pasado, finalmente escucha la voz de Luke diciéndole: \"Rey, la Fuerza estará contigo, siempre\" , hasta que atrae el sable de luz de Leia hacia su mano para encarar una vez más a Palpatine, quien la ataca con sus Rayos de la Fuerza. Sin embargo Rey desvía los rayos con el sable de luz, pero a medida que el ataque se intensifica, Palpatine le menciona a Rey que ella es una miserable carroñera y no es rival para el poder que hay en él ahora. Inclusive le recalca diciendo: \"Yo soy todos los Sith\", pero Rey lejos de rendirse atrae el sable de luz de Anakin Skywalker a su mano izquierda y le responde a Palpatine en tono desafiante diciendo: \"Y yo, soy todos los Jedis\", y cruza los dos sables de luz y comienza a regresarle el ataque de vuelta a Palpatine y consigue destruir, desintegrar y eliminar a\n",
      "      0.6991944909095764  =>  Star Wars: Episodio IX - El ascenso de Skywalker\n",
      "      (id: 96313354-9726-4a28-9fba-c893fdefbc50) vuelta a Palpatine y consigue destruir, desintegrar y eliminar a Palpatine para siempre, junto con todos los seguidores Sith del emperador, que mueren al ser aplastados por unas estatuas. Pero poco después de lograrlo, Rey cae agotada al suelo y muere por la energía utilizada. Sin embargo, Ben se recupera y la resucita usando la Fuerza y los dos se besan románticamente. Poco después Ben muere y se convierte en uno con la Fuerza, al mismo tiempo que el cuerpo de la difunta Leia.Con la Orden Final destruida y todas las naves cayendo al suelo en ruinas, Rey, la Resistencia y la flota galáctica salen victoriosos y dejan Exegol para regresar a Ajan Kloss. Otros destructores en otros planetas de la galaxia como Bespin, Jakku y la luna forestal de Endor también caen, indicando la caída de la Primera Orden. Un tiempo después mientras la galaxia celebra la caída de la Primera Orden, Rey visita la antigua granja de los Lars en el planeta Tatooine, donde Luke fue criado en su momento y también por ser el planeta natal del padre de este, Anakin Skywalker. Una vez ahí esta se queda observando pensativa el lugar de crianza de Luke y\n",
      "      0.6774590611457825  =>  Star Wars: Episodio IX - El ascenso de Skywalker\n",
      "      (id: a371bbf0-435e-48d2-9957-a44c710d8c84) cuando estaba a punto de darle el golpe final, Rey percibe la presencia de Ben el cual había llegado al planeta Exegol para ayudarla, luchando en ese momento contra sus antiguos caballeros, Rey mediante su vínculo le entrega el sable de luz de Anakin Skywalker, mientras ella se queda con el de Leia. Luego, Ben vence a los Caballeros de Ren y Rey vence a los guardianes de Palpatine.La Resistencia se involucra en la batalla contra la flota de Palpatine, pero son ampliamente superados, hasta que llegan Lando, Chewie y el Halcón y una multitud de refuerzos provenientes de toda la Galaxia, incluyendo al antiguo piloto rebelde Wedge Antilles, quien sirve de artillero del Halcón. Palpatine descubre que Rey y Ben forman una Díada en la Fuerza, debido a su poderoso vínculo y usa la Fuerza para absorber la esencia vital de ambos, para así restaurar sus poderes, recuperar la vista y rejuvenecerse. Luego incapacita a Ben lanzándolo lejos y ataca a la flota de la Resistencia con un gran rayo de la Fuerza.Una debilitada Rey oye las voces de los Jedis del pasado: Anakin Skywalker, Obi-Wan Kenobi, Yoda, Qui-Gon Jinn, Plo Koon, Ki-Adi Mundi, Mace Windu, Ahsoka Tano, Stass\n",
      "Q: Luke descubre que Darth Vader es su padre\n",
      "      0.6717709302902222  =>  Star Wars: Episode VI - Return of the Jedi\n",
      "      (id: 1973641c-c838-4a0e-9a98-9804d38e827e) para enfrentarse a Darth Vader, porque él también puede predecir el futuro con la ayuda del Lado Luminoso de la Fuerza que está concentrada ahora en él. Antes de marcharse, Luke le confiesa a Leia que son hermanos y que Vader es su padre. Luke se entrega en medio de la noche, a los soldados del Imperio en una base comando en medio de la selva de Endor, y sin éxito, intenta convencer a su padre para que deje el Lado Oscuro. Vader traslada a Luke a la Estrella de la muerte y lo presenta ante el Emperador Palpatine, quien le revela que la Alianza Rebelde va a caer en una trampa y que la nueva estación espacial, está en perfecto estado y funcionamiento con su arma principal, y que él había previsto toda esta situación, la llegada de Luke, el ataque de la Alianza Rebelde y la presencia de los comandos especiales de la Alianza Rebelde, que quieren sabotear el escudo de energía en Endor y le revela, que un grupo especial de sus propias fuerzas de combate harán caer en una trampa a sus amigos en Endor, para derrotar a las naves de la alianza rebelde cuando arriben\n",
      "      0.648534893989563  =>  Star Wars: Episodio V - El Imperio contraataca\n",
      "      (id: 8dfe1967-2323-419c-9e84-5b37f95b7e22) Chewbacca y C-3PO (quien aún está parcialmente destrozado en pedazos) a escapar. Aunque tratan de rescatar a Han de las manos de Boba Fett, este último ya abandona el planeta con su recompensa unos momentos antes en su nave, el Esclavo I. Ante esta situación, Lando, Leia, Chewbacca y C-3PO se ven obligados a huir en el Halcón Milenario, aunque desconocen que su hiperpropulsor había sido desactivado de nuevo por el Imperio.Mientras tanto, Luke llega poco después a la Ciudad de las Nubes a bordo de su X-Wing y se enfrenta a Vader en un duelo de sables de luz que finaliza con la victoria de Darth Vader después de cortarle la mano derecha a Luke. Justo en ese momento, Vader le dice a Luke que se una a su causa y donde también le revela a Luke que Obi-Wan no le contó toda la verdad sobre su padre y que en realidad, él es su padre. Al oír esto, Luke empieza a gritar de desesperación creyendo que todo era una mentira y que era imposible que su padre se volviera un asesino y un monstruo que trabaja para el Imperio Galáctico, pero lord Vader le asegura que le esta\n",
      "      0.6467056274414062  =>  Star Wars: Episode VI - Return of the Jedi\n",
      "      (id: 0d2eed95-7728-4743-81e0-4b596dd9fbdc) morir y volverse uno con la Fuerza, Yoda le dice a Luke que debe enfrentarse nuevamente a Darth Vader, pues es su destino como Jedi y le confirma que él es su padre, también le dice que hay otro Skywalker, Leia. Yoda también informa a Luke que tras su inminente muerte, él será el último de los Jedi que existe en la Galaxia y que \"La Fuerza\" estará concentrada solamente en él, para enfrentar y derrotar a Darth Vader, por lo que el equilibrio de La Fuerza en la Galaxia quedará establecido. Más tarde, la forma de espíritu de Obi-Wan Kenobi aparece y confirma que Vader una vez fue Anakin Skywalker, un joven Jedi que fue seducido por el lado oscuro de la Fuerza. También le revela que la Princesa Leia es en realidad su hermana melliza, que fueron separados de su madre, Padmé Amidala (quien falleció justo después del parto) al nacer y ocultados para proteger a ambos de Vader y el Emperador Palpatine.Mientras tanto, en el punto de reunión en un lejano lugar de la Galaxia, la Alianza Rebelde prepara una estrategia de ataque contra el Imperio Galáctico, logrando reunir varias naves de combate de entre todos los\n",
      "Q: Luke encuentra a Yoda y es entrenado como Jedi\n",
      "      0.6989638805389404  =>  Star Wars: Episodio V - El Imperio contraataca\n",
      "      (id: ba3725e1-0af1-4d11-bdd3-2b80c9d8a52a) intercede, alegando que él también era un joven con la cabeza distraída cuando fue entrenado, a lo que Yoda no puede negarse y comienza a instruir a Luke en los caminos de la Fuerza.Yoda le da a Luke grandes lecciones de sabiduría, como que el tamaño no importa (cabe destacar que Yoda mide 0,56 m), el origen y la omnipresencia de la Fuerza y la diferencia entre el lado luminoso y el oscuro. Durante el entrenamiento, Yoda insta a Luke a entrar en una cueva dominada por el lado oscuro, en donde Luke se enfrenta a Vader en una visión y, para su confusión, ve su propio rostro bajo la máscara de Vader. Yoda le enseña a su joven aprendiz cómo poder levitar a través de la Fuerza, la nave X-Wing atascada en el pantano, cosa que Luke no logró debido a su incredulidad. Durante una meditación, Luke logra ver el futuro: Leia y Han sufriendo en una Ciudad de las Nubes. Habiendo visto eso, Luke decide ir a rescatarlos, ignorando las advertencias de Yoda y de Obi-Wan (quien vuelve al mundo en forma de fantasma de la fuerza). Obi-Wan se lamenta, diciendo que Luke era su última esperanza, pero\n",
      "      0.6415563821792603  =>  Star Wars: Episode VI - Return of the Jedi\n",
      "      (id: 46fe1309-6164-474e-b928-f48d6e20b698) afectada temporalmente; pero es descubierta por Jabba y puesta bajo su custodia, pasando a ser su esclava. Poco tiempo más tarde, Luke llega para hacer una petición final a Jabba de liberar a Solo. Luke es capturado y enviado al pozo de un Rancor al cual mata, provocando la ira de Jabba quien decreta que Luke, Chewie y Han serían llevados al desierto para ser ejecutados y consumidos por un Sarlacc. Con la ayuda de R2-D2, Luke usa su nuevo Sable de luz, esta vez con un filo de color verde, comienza a librar una batalla con los guardias de Jabba, mientras que en el interior de la barcaza principal Jabba es asesinado por Leia (quién lo ahorca con la misma cadena con la que el la controlaba) y el cazarrecompensas Boba Fett es golpeado por Solo cayendo dentro del Sarlacc. Luke y su equipo consiguen escapar justo antes de que la barcaza de Jabba explote.Luke vuelve a Dagobah para completar su entrenamiento Jedi, pero el maestro Yoda cae enfermo y al borde de su inminente muerte. Yoda le dice a su aprendiz que su entrenamiento ha concluido. Antes de morir y volverse uno con la Fuerza, Yoda le dice\n",
      "      0.6318886876106262  =>  Star Wars: Episodio III - La venganza de los Sith\n",
      "      (id: 67e9ae6d-fcb2-495c-b733-8ae9fa791155) a Luke mientras está exiliado en el planeta Tatooine. Por otro lado Yoda vivirá como exiliado en el planeta Dagobah, esperando el crecimiento de los hijos de Padmé y Anakin, las únicas esperanzas de rescatar a la galaxia del naciente malvado Imperio Galáctico.[4]\n"
     ]
    }
   ],
   "source": [
    "queries = [\n",
    "    'Anakin gana una carrera cuando era un niño',\n",
    "    'Los clones reciben la orden de ejecutar a los Jedi',\n",
    "    'Han Solo gana el Halcón Milenario en una partida de cartas',\n",
    "    'Kylo Ren mata a su padre, Han Solo',\n",
    "    'Palpatine es derrotado definitivamente por Rey',\n",
    "    # Less accurate queries\n",
    "    'Luke descubre que Darth Vader es su padre',\n",
    "    'Luke encuentra a Yoda y es entrenado como Jedi',\n",
    "]\n",
    "\n",
    "for q in queries:    \n",
    "    results = qdrant.similarity_search_with_score(q, k=3)    \n",
    "    print('Q:', q)\n",
    "    for doc, score in results:\n",
    "        print('     ', score, ' => ', doc.metadata['title'])\n",
    "        print('     ', f'(id: {doc.metadata[\"_id\"]})', doc.page_content)\n",
    "\n"
   ]
  },
  {
   "cell_type": "markdown",
   "metadata": {},
   "source": [
    "### Creamos un Chat Agent experto en Star Wars con langchain"
   ]
  },
  {
   "cell_type": "code",
   "execution_count": 77,
   "metadata": {},
   "outputs": [
    {
     "name": "stdout",
     "output_type": "stream",
     "text": [
      "Columns: Index(['title', 'plot'], dtype='object') , Records: 1\n",
      "0 Star Wars: Episodio X - Rey Legacy  => chunks: 5\n",
      "\n",
      "Total documents: 5\n",
      "🎞️ ➡️ Star Wars: Episodio X - Rey Legacy 📄 => Hace mucho tiempo en una galaxia muy, muy lejana ... Después de haber derrotado al temible Palpatine\n",
      "🎞️ ➡️ Star Wars: Episodio X - Rey Legacy 📄 => tiene que actuar rápido y sin dudarlo se infiltra en la nave 'Korriban Avenger' para rescatar a los \n",
      "🎞️ ➡️ Star Wars: Episodio X - Rey Legacy 📄 => Krayer, sin poner en riesgo a su nuevo amigo, Aron acepta y se adentra en la nave. La pelea con Kray\n",
      "🎞️ ➡️ Star Wars: Episodio X - Rey Legacy 📄 => Aron Tano con el dispositivo de localización. Rey y Aron se hacen con el control de la nave, y detie\n"
     ]
    },
    {
     "data": {
      "text/plain": [
       "['2c43a9c657954f409f2c75b7008bacf5',\n",
       " '122c4ae257be4423a2bb11b509ef4f80',\n",
       " 'f8dc819d71844fa2be1ffddf52a9cf69',\n",
       " '2c114cb75c6749c39dfc4ce74274eb5d',\n",
       " '41ed88d4bd004c3f89db51933a8ac01f']"
      ]
     },
     "execution_count": 77,
     "metadata": {},
     "output_type": "execute_result"
    }
   ],
   "source": [
    "MY_MOVIE_COLL = \"my_movie\"\n",
    "qdrant_chat = Qdrant(\n",
    "    client=client,\n",
    "    collection_name=MY_MOVIE_COLL,\n",
    "    embeddings=oai_embedding\n",
    ")\n",
    "client.recreate_collection(MY_MOVIE_COLL, VectorParams(size=MODEL_DIMENSION, distance=Distance.COSINE))\n",
    "\n",
    "my_movie = pd.read_json('datasets/rey_legacy_plot.json')\n",
    "print('Columns:', my_movie.columns, ', Records:', my_movie.shape[0])\n",
    "my_movie.head()\n",
    "\n",
    "docs = create_docs_from_df(my_movie)\n",
    "qdrant_chat.add_documents(docs)\n",
    "\n",
    "# http://localhost:6333/dashboard/#/collections/my_movie\n",
    "# http://localhost:6333/collections/my_movie"
   ]
  },
  {
   "cell_type": "code",
   "execution_count": 78,
   "metadata": {},
   "outputs": [],
   "source": [
    "from langchain.chat_models import ChatOpenAI\n",
    "from langchain.chains.conversation.memory import ConversationBufferWindowMemory\n",
    "from langchain.chains import RetrievalQA\n",
    "\n",
    "#OpenAI LLM\n",
    "# OpenAI models: https://platform.openai.com/docs/models\n",
    "# OpenAI pricing: https://openai.com/pricing#language-models\n",
    "llm = ChatOpenAI(openai_api_key=os.getenv(\"OPENAI_API_KEY\"),\n",
    "                 model_name=\"gpt-3.5-turbo-0125\", # gpt-4-turbo-preview\n",
    "                 temperature=0.0)\n",
    "\n",
    "# Conversation memory\n",
    "#conv_mem = ConversationBufferWindowMemory(memory_key='history', k=5, return_messages=True)\n",
    "\n",
    "qa = RetrievalQA.from_llm(\n",
    "    llm=llm,\n",
    "    retriever=qdrant_chat.as_retriever()\n",
    ")\n"
   ]
  },
  {
   "cell_type": "code",
   "execution_count": 79,
   "metadata": {},
   "outputs": [
    {
     "name": "stdout",
     "output_type": "stream",
     "text": [
      "\n",
      "Q: ¿A quién encuentra Rey en la nave 'Korriban Avenger'?\n",
      "A: Rey encuentra a un grupo de jóvenes secuestrados en la nave 'Korriban Avenger', uno de ellos es un joven adolescente llamado 'Aron Tano', quien resulta ser el nieto de 'Ahsoka Tano'.\n",
      "\n",
      "Q: ¿quién es la madre de Aron?\n",
      "A: No hay información proporcionada en el contexto sobre quién es la madre de Aron.\n"
     ]
    }
   ],
   "source": [
    "def print_qa(q):\n",
    "    print('\\nQ:', q)\n",
    "    answer = qa.run(q)\n",
    "    print('A:', answer)\n",
    "\n",
    "#print_qa(\"¿quién es el padre de Luke Skywalker?\")\n",
    "#print_qa(\"¿A qué se dedica Rey en Tatooine?\")\n",
    "#print_qa(\"¿Quién avisa a Rey para que viaje a Mercuroon?\")\n",
    "#print_qa(\"¿Qué se encuentra Rey al llegar a Mercuroon por primera vez?\")\n",
    "#print_qa(\"¿Cómo se llama el lider de la nueva orden Sith?\")\n",
    "#print_qa(\"¿Cómo se llama la nave de Darth Krayer?\")\n",
    "print_qa(\"¿A quién encuentra Rey en la nave 'Korriban Avenger'?\")\n",
    "#print_qa(\"¿Cómo derrota Rey a Krayer, quién la ayuda?\")\n",
    "#print_qa(\"¿quién es Aron?\")\n",
    "#print_qa(\"¿cómo ayuda Aron en la nave de Krayer a Rey?\")\n",
    "#print_qa(\"¿Qué decide hacer Rey en el templo de Mercuroon?\")\n",
    "#print_qa(\"¿Quién acompaña a Rey a Mercuroon?\")\n",
    "#print_qa(\"¿A quien pide ayuda Rey después de volver a Mercuroon?\")\n",
    "\n",
    "## Preguntas sin contexto\n",
    "#print_qa(\"¿Quién es el padre de Rey?\")\n",
    "print_qa(\"¿quién es la madre de Aron?\")\n"
   ]
  },
  {
   "cell_type": "code",
   "execution_count": 80,
   "metadata": {},
   "outputs": [
    {
     "name": "stdout",
     "output_type": "stream",
     "text": [
      "\n",
      "Q: ¿quién es la madre de Aron?\n",
      "A: La madre de Aron es Fenny Shuuka.\n",
      "\n",
      "Q: ¿dónde se encuentran los padres de Aron?\n",
      "A: Los padres de Aron, Lando Tano y Fenny Shuuka, se encuentran prisioneros en unas minas de cristales en el planeta Kreeltor.\n"
     ]
    }
   ],
   "source": [
    "my_plot = '''Aron descubre en la nave de Ahsoka que sus padres viven, su padre es Lando Tano y su madre Fenny Shuuka, \n",
    "pero están prisioneros de unas minas de cristales en el planeta Kreeltor. Aron decide ir a rescatarlos y Rey le acompaña.\n",
    "'''\n",
    "new_doc = Document(page_content=my_plot, metadata=dict(title=\"Ahsoka Legacy\"))\n",
    "\n",
    "qdrant_chat.add_documents([new_doc])\n",
    "\n",
    "print_qa(\"¿quién es la madre de Aron?\")\n",
    "print_qa(\"¿dónde se encuentran los padres de Aron?\")\n",
    "\n",
    "\n"
   ]
  }
 ],
 "metadata": {
  "kernelspec": {
   "display_name": ".venv",
   "language": "python",
   "name": "python3"
  },
  "language_info": {
   "codemirror_mode": {
    "name": "ipython",
    "version": 3
   },
   "file_extension": ".py",
   "mimetype": "text/x-python",
   "name": "python",
   "nbconvert_exporter": "python",
   "pygments_lexer": "ipython3",
   "version": "3.11.2"
  }
 },
 "nbformat": 4,
 "nbformat_minor": 2
}
