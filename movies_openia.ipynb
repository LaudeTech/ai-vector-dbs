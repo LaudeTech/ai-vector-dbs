{
 "cells": [
  {
   "cell_type": "markdown",
   "metadata": {},
   "source": [
    "# Búsquedas semánticas con películas de Star Wars\n",
    "\n",
    "## Entorno:\n",
    "\n",
    "```shellscript\n",
    "docker run -p 6333:6333 -p 6334:6334 -v $(pwd)/q_storage:/qdrant/storage:z qdrant/qdrant\n",
    "```\n",
    "\n",
    "```shellscript\t\n",
    "python -m venv .venv\n",
    "source .venv/bin/activate\n",
    "```\n",
    "\n",
    "Dataset: https://www.kaggle.com/datasets/jrobischon/wikipedia-movie-plots\n"
   ]
  },
  {
   "cell_type": "code",
   "execution_count": null,
   "metadata": {},
   "outputs": [],
   "source": [
    "%pip install -r requirements.txt\n",
    "#!jupyter nbextension enable --py widgetsnbextension\n"
   ]
  },
  {
   "cell_type": "code",
   "execution_count": 39,
   "metadata": {},
   "outputs": [
    {
     "name": "stdout",
     "output_type": "stream",
     "text": [
      "Columns: Index(['title', 'plot'], dtype='object') , Records: 11\n"
     ]
    }
   ],
   "source": [
    "import pandas as pd\n",
    "import numpy as np\n",
    "\n",
    "# Load the data\n",
    "df = pd.read_json('datasets/star_wars_plots.json')\n",
    "print('Columns:', df.columns, ', Records:', df.shape[0])\n",
    "df.head()\n",
    "startwars_movies = df"
   ]
  },
  {
   "cell_type": "markdown",
   "metadata": {},
   "source": [
    "### Creamos embeddings del argumento de las películas"
   ]
  },
  {
   "cell_type": "code",
   "execution_count": 40,
   "metadata": {},
   "outputs": [
    {
     "name": "stdout",
     "output_type": "stream",
     "text": [
      "Dimension: 1536 [0.016038354486227036, -0.05392090603709221] ... [0.047603439539670944, -0.024001920595765114]\n"
     ]
    }
   ],
   "source": [
    "import openai\n",
    "import os\n",
    "from dotenv import load_dotenv\n",
    "\n",
    "load_dotenv()\n",
    "\n",
    "openai.api_key = os.getenv(\"OPENAI_API_KEY\")\n",
    "\n",
    "client = openai.Client()\n",
    "# New embeddings: https://openai.com/blog/new-embedding-models-and-api-updates\n",
    "# Embedding guide: https://platform.openai.com/docs/guides/embeddings\n",
    "# Pricing: https://openai.com/pricing#language-models\n",
    "EMBEDDING_MODEL = \"text-embedding-3-small\"\n",
    "\n",
    "text_sample = \"Hace mucho tiempo en una galaxia muy, muy lejana ...\"\n",
    "response = client.embeddings.create(model=EMBEDDING_MODEL, input=text_sample)\n",
    "vector = response.data[0].embedding\n",
    "print('Dimension:', len(vector), vector[:2], '...', vector[-2:])\n",
    "\n"
   ]
  },
  {
   "cell_type": "markdown",
   "metadata": {},
   "source": [
    "### Preparamos langchain para hacer búsquedas semánticas"
   ]
  },
  {
   "cell_type": "code",
   "execution_count": 42,
   "metadata": {},
   "outputs": [
    {
     "name": "stdout",
     "output_type": "stream",
     "text": [
      "Vectors: 2 Dimension: 1536 [0.014705707666277976, -0.05397284189057806] ... [0.047165052954485434, -0.024828395751366802]\n"
     ]
    }
   ],
   "source": [
    "# LangChain Doc: https://python.langchain.com/docs/get_started/introduction\n",
    "from langchain.embeddings.openai import OpenAIEmbeddings\n",
    "\n",
    "oai_embedding = OpenAIEmbeddings(\n",
    "    model=EMBEDDING_MODEL,\n",
    "    openai_api_key=os.getenv(\"OPENAI_API_KEY\")\n",
    ")\n",
    "\n",
    "# Embedding texto: oaie.embed_query(text_sample)\n",
    "\n",
    "r = oai_embedding.embed_documents([text_sample, text_sample])\n",
    "MODEL_DIMENSION = len(r[0])\n",
    "print('Vectors:', len(r), 'Dimension:', MODEL_DIMENSION, r[0][:2], '...', r[0][-2:])\n"
   ]
  },
  {
   "cell_type": "code",
   "execution_count": 52,
   "metadata": {},
   "outputs": [
    {
     "name": "stdout",
     "output_type": "stream",
     "text": [
      "0 Star Wars: Episodio IV - Una nueva esperanza  => chunks: 8\n",
      "1 Star Wars: Episodio V - El Imperio contraataca  => chunks: 12\n",
      "2 Star Wars: Episode VI - Return of the Jedi  => chunks: 17\n",
      "3 Star Wars: Episodio I - La amenaza fantasma  => chunks: 5\n",
      "4 Star Wars: Episodio II - El ataque de los clones  => chunks: 13\n",
      "5 Star Wars: Episodio III - La venganza de los Sith  => chunks: 28\n",
      "6 Star Wars: Episodio VII - El despertar de la Fuerza  => chunks: 20\n",
      "7 Star Wars: Episodio VIII - Los últimos Jedi  => chunks: 16\n",
      "8 Star Wars: Episodio IX - El ascenso de Skywalker  => chunks: 17\n",
      "9 Rogue One: una historia de Star Wars  => chunks: 20\n",
      "10 Han Solo: una historia de Star Wars  => chunks: 6\n",
      "\n",
      "Total documents: 162\n",
      "🎞️ ➡️ Star Wars: Episodio IV - Una nueva esperanza 📄 => Hace mucho tiempo en una galaxia muy, muy lejana ... Son tiempos de guerra civil. Naves rebeldes han\n",
      "🎞️ ➡️ Star Wars: Episodio IV - Una nueva esperanza 📄 => Darth Vader a la cabeza. Durante el asalto, capturan a la princesa, quien antes logra depositar los \n",
      "🎞️ ➡️ Star Wars: Episodio IV - Una nueva esperanza 📄 => travesía, son atacados por «moradores de las arenas», siendo finalmente rescatados por un sujeto enc\n",
      "🎞️ ➡️ Star Wars: Episodio IV - Una nueva esperanza 📄 => todos sus habitantes. Al regresar a su casa, Luke encuentra los cadáveres carbonizados de sus tíos. \n"
     ]
    }
   ],
   "source": [
    "from langchain_community.docstore.document import Document\n",
    "CHUNK_WORDS = 200 # OpenAI model soporta hasta 8000 tokens (aprox)\n",
    "\n",
    "# Creamos chunks de texto de unas 200 palabras con un solape de 10 palabras\n",
    "def chunk_text(text, chunk_size=CHUNK_WORDS, overlap=CHUNK_WORDS//20):\n",
    "    chunks = []\n",
    "    words = text.split()\n",
    "    for i in range(0, len(words), chunk_size-overlap):\n",
    "        chunks.append(' '.join(words[i:i+chunk_size]))\n",
    "    return chunks\n",
    "\n",
    "def create_docs_from_df(df, text_column='plot', chunk_size=CHUNK_WORDS):\n",
    "    docs = []\n",
    "    for i, row in df.iterrows():\n",
    "        plot_chunks = chunk_text(row[text_column], chunk_size)\n",
    "        for chunk in plot_chunks:\n",
    "            metadata = dict(title=row['title'])\n",
    "            metadata['plot_chunk'] = chunk\n",
    "            doc = Document(page_content=chunk, metadata=metadata)\n",
    "            docs.append(doc)\n",
    "\n",
    "        print(i, row['title'], ' => chunks:', len(plot_chunks))\n",
    "\n",
    "    print('\\nTotal documents:', len(docs))\n",
    "    for d in docs[:4]:\n",
    "        print('🎞️ ➡️', d.metadata['title'], '📄 =>', d.page_content[:100])\n",
    "    return docs\n",
    "\n",
    "documents = create_docs_from_df(startwars_movies)\n"
   ]
  },
  {
   "cell_type": "markdown",
   "metadata": {},
   "source": [
    "### Conectamos con Qdrant para crear una colección y alimentarla con los embeddings\n"
   ]
  },
  {
   "cell_type": "code",
   "execution_count": 53,
   "metadata": {},
   "outputs": [
    {
     "name": "stdout",
     "output_type": "stream",
     "text": [
      "Collections collections=[CollectionDescription(name='movies_sw'), CollectionDescription(name='movies_sw_openai')]\n"
     ]
    }
   ],
   "source": [
    "from langchain.vectorstores import Qdrant\n",
    "from qdrant_client import QdrantClient\n",
    "from qdrant_client.models import VectorParams, Distance\n",
    "\n",
    "MOVIES_COLLECTION = \"movies_sw_openai\"\n",
    "\n",
    "client = QdrantClient(host=\"localhost\", prefer_grpc=True)\n",
    "client.recreate_collection(MOVIES_COLLECTION, VectorParams(size=MODEL_DIMENSION, distance=Distance.COSINE))\n",
    "\n",
    "# Qdrant store: https://python.langchain.com/docs/integrations/vectorstores/qdrant\n",
    "qdrant = Qdrant(\n",
    "    client=client,\n",
    "    collection_name=MOVIES_COLLECTION,\n",
    "    embeddings=oai_embedding\n",
    ")\n",
    "print('Collections', qdrant.client.get_collections())\n",
    "\n"
   ]
  },
  {
   "cell_type": "code",
   "execution_count": 54,
   "metadata": {},
   "outputs": [
    {
     "name": "stdout",
     "output_type": "stream",
     "text": [
      "IDs: ['50220b818cc64950a4500615fcf5cc1d', '78813b2aef5f41df9ed8680439fa0a5d'] ... ['c1707eb9ec3d48858481bbc8d389ee90', '4ed07a6d57c84f5c8995246fb87f9173']\n",
      "Collections: [CollectionDescription(name='movies_sw'), CollectionDescription(name='movies_sw_openai')]\n",
      "Collection: movies_sw_openai rows: status=<CollectionStatus.GREEN: 'green'> optimizer_status=<OptimizersStatusOneOf.OK: 'ok'> vectors_count=162 indexed_vectors_count=0 points_count=162 segments_count=8 config=CollectionConfig(params=CollectionParams(vectors=VectorParams(size=1536, distance=<Distance.COSINE: 'Cosine'>, hnsw_config=None, quantization_config=None, on_disk=None), shard_number=1, sharding_method=None, replication_factor=1, write_consistency_factor=1, read_fan_out_factor=None, on_disk_payload=True, sparse_vectors=None), hnsw_config=HnswConfig(m=16, ef_construct=100, full_scan_threshold=10000, max_indexing_threads=0, on_disk=False, payload_m=None), optimizer_config=OptimizersConfig(deleted_threshold=0.2, vacuum_min_vector_number=1000, default_segment_number=0, max_segment_size=None, memmap_threshold=None, indexing_threshold=20000, flush_interval_sec=5, max_optimization_threads=1), wal_config=WalConfig(wal_capacity_mb=32, wal_segments_ahead=0), quantization_config=None) payload_schema={}\n"
     ]
    }
   ],
   "source": [
    "op = qdrant.add_documents(documents)\n",
    "\n",
    "print('IDs:', op[:2], '...', op[-2:])\n",
    "print('Collections:', client.get_collections().collections)\n",
    "print('Collection:', MOVIES_COLLECTION, 'rows:', client.get_collection(MOVIES_COLLECTION))\n",
    "\n"
   ]
  },
  {
   "cell_type": "markdown",
   "metadata": {},
   "source": [
    "### Realizamos búsquedas semánticas sobre la saga Star Wars"
   ]
  },
  {
   "cell_type": "code",
   "execution_count": 55,
   "metadata": {},
   "outputs": [
    {
     "name": "stdout",
     "output_type": "stream",
     "text": [
      "Q: Anakin gana una carrera cuando era un niño\n",
      "      0.6705865859985352  =>  Star Wars: Episodio I - La amenaza fantasma\n",
      "      (id: 430a7817-647e-49c5-9028-e5d696b8fd6e) el niño gana la carrera, se quedarán con los repuestos para la nave y con la libertad de Anakin. Watto acepta, al creer que el mayor oponente de Anakin, Sebulba, le ganaría.Ya en la carrera, Anakin tiene problemas ya que Sebulba había roto un elemento de su pod. Sin embargo, el niño se las ingenia para estabilizar la nave y finalmente gana la carrera. Luego de una emotiva despedida entre Shmi y Anakin, todos se dirigen hacia la nave de la Reina para trasladarse hacia Coruscant, capital de la República. Antes de llegar a la nave, Qui-Gon es sorprendido por el aprendiz de Lord Sidious, Darth Maul, y mantienen una pequeña lucha con sus sables. Finalmente, Qui-Gon logra huir en la nave. Una vez en Coruscant, Qui-Gon y Obi-Wan se dirigen hacia el Consejo Jedi para proponer el entrenamiento de Anakin, pero es rechazado debido a que el consejo se opuso a ello porque no veían a Anakin como El elegido. Sin embargo, Qui-Gon, por su parte, decide dar término al entrenamiento de Obi-Wan para así poder entrenar a Anakin él mismo. Al mismo tiempo, el senador Palpatine convence a Padmé de votar en contra del Canciller Supremo Valorum por\n",
      "      0.5492883324623108  =>  Star Wars: Episodio I - La amenaza fantasma\n",
      "      (id: 8e185bc0-74a7-49d0-b486-78f427bbc972) agua, son atacados por distintas clases de criaturas. Al llegar a Naboo liberan a su soberana y a su grupo.[Archivo:Scala_Reggia_Casertana.jpg]Vistas al interior del Palacio Royal de Naboo.Todos escapan en la nave de la Reina, en dirección al planeta Coruscant, pero al salir del planeta son atacados por flotas de la Federación, y resulta dañada. Por esa razón, deben aterrizar en el planeta Tatooine para repararla. Allí se dirigen hacia un negocio de repuestos atendido por Watto, quien posee como esclavo a un niño llamado Anakin Skywalker. Allí se produce un acercamiento entre Padmé y Anakin. Al salir del local, se desata una tormenta de arena, por lo cual Anakin les ofrece refugio a Qui-Gon, Jar Jar y Padmé en su casa. Una vez allí, Qui-Gon le explica a la madre de Anakin, Shmi Skywalker, que siente una presencia fuerte de la Fuerza en el niño. Qui-Gon presiente que Anakin podría ser el Elegido de la profecía Jedi, que aportaría equilibrio a la Fuerza. Anakin les cuenta que es «experto» en un juego de carreras llamado podracing, y que preparaba una nave para participar. Qui-Gon le apuesta a Watto que si el niño gana la carrera, se quedarán con los repuestos\n",
      "      0.5361670851707458  =>  Star Wars: Episodio III - La venganza de los Sith\n",
      "      (id: 0d173aa9-d21b-440a-81bd-8c4bfd022827) Anakin comienza a ser perturbado por numerosas pesadillas, en las que tiene visiones de Padmé muriendo en el parto, similares a las que tenía de su madre, poco antes de que ella muriera en sus brazos.Al día siguiente, Obi-Wan le cuenta discretamente a Anakin que el Alto Consejo le ha asignado la tarea de espiar al Canciller, debido a la sospecha por su presunta corrupción en el Senado Galáctico con el fin de evitar ser relegado de su cargo político y sus facultades adquiridas durante la Guerra de los Clones. No obstante, el joven Jedi no está completamente seguro si debería asumir esa orden, puesto que el Canciller se ha convertido en su \"amigo y consejero\". A partir de su nombramiento como representante de la cancillería ante la Orden Jedi, Anakin ha comenzado a desarrollar una profunda amistad con Palpatine. Además, este ha intentado convencerlo sutilmente, en todas y cada una de sus conversaciones, sobre los privilegios exclusivos con los que cuenta el Lado Oscuro de la Fuerza. Uno de ellos es el aprendizaje de una habilidad oscura para prevenir la muerte de cualquier persona, algo que según Palpatine, solo pudo conseguir el Señor Oscuro de los Sith Darth Plagueis\n",
      "Q: Los clones reciben la orden de ejecutar a los Jedi\n",
      "      0.6936795711517334  =>  Star Wars: Episodio III - La venganza de los Sith\n",
      "      (id: 1cfc317a-4d43-4151-8e73-c212ca264551) consigue sobrevivir a la emboscada inicial, la cual sería llamada la Gran Purga Jedi y deciden ponerse a salvo con la ayuda del senador Bail Organa (Jimmy Smits), quien previamente había acudido al Templo Jedi a ver que estaba sucediendo, debido a los incendios y el caos, sin embargo el Comandante clon Appo lo había recibido en la entrada bajo la coartada de que había una supuesta rebelión y que la situación estaba bajo control. Sin embargo cuando Bail decidió insistir en entrar, el Comandante clon Appo lo amenaza con su rifle blaster y le menciona al senador que debía retirarse del Templo Jedi, pero justo cuando este se disponía a retirarse un padawan superviviente llamado Zett Jukassa trata de escapar con él, pero es rápidamente asesinado justo en frente de él y con este hecho el senador decide escapar rápido del templo a ver lo que realmente habían hecho los soldados clones. Mientras tanto Darth Vader, tras asesinar a todos los niños y jóvenes aprendices, acude con Padmé en su anterior identidad como Anakin y le revela que la Orden Jedi ha intentado apoderarse de la República y traicionar al Senado. Después acude al planeta Mustafar para cumplir con\n",
      "      0.678749680519104  =>  Star Wars: Episodio III - La venganza de los Sith\n",
      "      (id: e1221163-fe54-419f-afa3-26acca17e5cb) un nuevo lord Sith— jura lealtad a su nuevo maestro y comienza a ejecutar sus órdenes con el uso del Lado Oscuro de la Fuerza. Como su primera misión y como nuevo aprendiz de lord Sidious, Anakin es enviado a acudir al Templo Jedi para asesinar a todos los niños y demás aprendices de la Orden Jedi acompañado de sus tropas de la legión de soldados clones 501. A su vez, Darth Sidious envía sus órdenes precisas a los soldados clones activos en la galaxia, para eliminar a sus respectivos generales Jedi, mediante la promulgación de una directiva programada bajo la Orden Secreta Número 66. Con dicha resolución activada, el Comandante clon Cody desde el planeta Utapau rápidamente le ordena a sus tropas abrir fuego a traición y por la espalda contra Obi-Wan, el cual es impactado por el disparo, junto a su bestia que montaba en ese momento y se caen al vació, pero afortunadamente el maestro Jedi sobrevive a la caída y escapa secretamente del planeta por medio de la nave del difunto General Grievous, al mismo tiempo la mayoría de los maestros Jedi son rápidamente traicionados y asesinados por sus propias tropas de soldados clones sin piedad\n",
      "      0.6775776147842407  =>  Star Wars: Episodio III - La venganza de los Sith\n",
      "      (id: 029ece24-9e76-4746-a8eb-426c1c3dac2f) Hace mucho tiempo en una galaxia muy, muy lejana [...] ¡Guerra! La República se desmorona bajo los ataques del despiadado Conde Dooku, señor de los Sith. Hay héroes en ambos bandos. El mal está por doquier. [...] En una maniobra audaz, el diabólico líder droide, General Grievous, ha entrado a la capital de la República y secuestrado al canciller Palpatine, líder del Senado Galáctico. [...] Mientras el Ejército Droide Separatista trata de huir de la asediada capital con su valioso rehén, dos caballeros Jedi dirigen una misión desesperada para rescatar al canciller cautivo...Texto introductorio.[3]La Guerra de los Clones continúa y el Canciller Palpatine (Ian McDiarmid) ha sido secuestrado por el Líder Separatista de la Confederación de Sistemas Independientes, el General Grievous (Matthew Wood). Los Jedi Obi-Wan Kenobi (Ewan McGregor) y Anakin Skywalker (Hayden Christensen) encabezan una misión para rescatar al Canciller y detener a Grievous. Después de abordar la nave \"La Mano Invisible\" y localizar al Canciller Palpatine, los Jedi tienen un encuentro con el Conde Dooku (Christopher Lee), en el cual Obi Wan es puesto fuera de combate. Anakin, por otro lado, siendo provocado todo el tiempo por Dooku, reduce al Sith amputándole ambas manos. Es aquí donde Anakin,\n",
      "Q: Han Solo gana el Halcón Milenario en una partida de cartas\n",
      "      0.6389772891998291  =>  Han Solo: una historia de Star Wars\n",
      "      (id: 4ed07a6d-57c8-4f5c-8995-246fb87f9173) quitarle mientras lo saludaba la carta con la que hizo trampa la última vez y gana la partida tomando posesión del Halcón Milenario. Después de ganar la apuesta, Han y Chewbacca abordan su nueva nave y se dirigen ahora hacia el planeta Tatooine, donde un gánster está formando un equipo para realizar un atraco.\n",
      "      0.5737997889518738  =>  Han Solo: una historia de Star Wars\n",
      "      (id: c1707eb9-ec3d-4885-8481-bbc8d389ee90) Vos, Qi'ra contacta a su superior, Darth Maul, ella le informa que Beckett asesinó a Vos y asume el liderazgo del sindicato Crimson Dawn, marchando al planeta Dathomir para encontrarse con Maul. Por otro lado, Han alcanza y mata a Beckett, recuperando el coaxium en el proceso, pero en ello este observa como Qi'ra abandona el planeta a bordo del yate de Vos, dejándole los Dados Dorados a Han para que este nunca la olvide.Momentos después, Han y Chewbacca le entregan el coaxium a Enfys y sus guerreros, quienes le ofrecen a Han la oportunidad de unirse a la rebelión contra el Imperio Galáctico. Sin embargo Han rechaza la oferta, pero al final recibe una lata del combustible coaxium en agradecimiento por su ayuda, suficiente para poder comprar su propia nave. Posteriormente el dúo rastrea nuevamente a Lando y lo desafía a una segunda partida de sabacc por la posesión del Halcón Milenario. Donde también, Han descubre que Lando le había ganado la última vez haciendo trampa, ya que este tenía una carta escondida debajo de la manga de su capa, sin embargo gracias a la astucia de Han, logra quitarle mientras lo saludaba la carta con la que hizo\n",
      "      0.5434035062789917  =>  Star Wars: Episodio V - El Imperio contraataca\n",
      "      (id: ea63dcb5-35ab-4154-9881-6c681169776c) decide convencer al Emperador de que sería mejor opción tenerlo de su lado, convirtiéndolo al Lado Oscuro de la Fuerza.Mientras tanto, en el cráter del asteroide, un ataque de Mynocks altera a los pasajeros del Halcón Milenario. Han dispara una descarga con su blaster y el asteroide empieza a moverse. Finalmente se da cuenta de que no están en una cueva, sino que el túnel resulta ser el interior de un exogorth, un gusano espacial gigante. Esto obliga al Halcón a salir del asteroide y enfrentarse a la flota imperial. Mientras tanto, para disgusto del Almirante Piett y el resto del personal del imperio, Darth Vader contrata a seis cazarrecompensas, entre ellos el célebre Boba Fett, a bordo del Ejecutor y promete una gran recompensa a quien localice al Halcón Milenario y a sus tripulantes y se los traiga ante el con vida.En una gran maniobra de Han, logran esconderse justo detrás de la torre de vigilancia del destructor estelar Vengador. El capitán de la misma, Lorth Needa, se disculpa personalmente con Darth Vader por haber perdido a los rebeldes, este acepta la disculpa después de asesinarlo con la Fuerza. La tripulación, aún con el Halcón acoplado al Vengador, decide\n",
      "Q: Luke descubre que Darth Vader es en realidad su padre\n",
      "      0.6752431392669678  =>  Star Wars: Episode VI - Return of the Jedi\n",
      "      (id: 2fbef26a-13e4-4854-9e22-c80739b18d3b) para enfrentarse a Darth Vader, porque él también puede predecir el futuro con la ayuda del Lado Luminoso de la Fuerza que está concentrada ahora en él. Antes de marcharse, Luke le confiesa a Leia que son hermanos y que Vader es su padre. Luke se entrega en medio de la noche, a los soldados del Imperio en una base comando en medio de la selva de Endor, y sin éxito, intenta convencer a su padre para que deje el Lado Oscuro. Vader traslada a Luke a la Estrella de la muerte y lo presenta ante el Emperador Palpatine, quien le revela que la Alianza Rebelde va a caer en una trampa y que la nueva estación espacial, está en perfecto estado y funcionamiento con su arma principal, y que él había previsto toda esta situación, la llegada de Luke, el ataque de la Alianza Rebelde y la presencia de los comandos especiales de la Alianza Rebelde, que quieren sabotear el escudo de energía en Endor y le revela, que un grupo especial de sus propias fuerzas de combate harán caer en una trampa a sus amigos en Endor, para derrotar a las naves de la alianza rebelde cuando arriben\n",
      "      0.6552578210830688  =>  Star Wars: Episodio V - El Imperio contraataca\n",
      "      (id: e4f8f809-73e5-4b0c-a421-e8dafa659c60) Chewbacca y C-3PO (quien aún está parcialmente destrozado en pedazos) a escapar. Aunque tratan de rescatar a Han de las manos de Boba Fett, este último ya abandona el planeta con su recompensa unos momentos antes en su nave, el Esclavo I. Ante esta situación, Lando, Leia, Chewbacca y C-3PO se ven obligados a huir en el Halcón Milenario, aunque desconocen que su hiperpropulsor había sido desactivado de nuevo por el Imperio.Mientras tanto, Luke llega poco después a la Ciudad de las Nubes a bordo de su X-Wing y se enfrenta a Vader en un duelo de sables de luz que finaliza con la victoria de Darth Vader después de cortarle la mano derecha a Luke. Justo en ese momento, Vader le dice a Luke que se una a su causa y donde también le revela a Luke que Obi-Wan no le contó toda la verdad sobre su padre y que en realidad, él es su padre. Al oír esto, Luke empieza a gritar de desesperación creyendo que todo era una mentira y que era imposible que su padre se volviera un asesino y un monstruo que trabaja para el Imperio Galáctico, pero lord Vader le asegura que le esta\n",
      "      0.6538993120193481  =>  Star Wars: Episode VI - Return of the Jedi\n",
      "      (id: bf314f2e-7eb4-4acb-bd87-51ff7a3ce82e) morir y volverse uno con la Fuerza, Yoda le dice a Luke que debe enfrentarse nuevamente a Darth Vader, pues es su destino como Jedi y le confirma que él es su padre, también le dice que hay otro Skywalker, Leia. Yoda también informa a Luke que tras su inminente muerte, él será el último de los Jedi que existe en la Galaxia y que \"La Fuerza\" estará concentrada solamente en él, para enfrentar y derrotar a Darth Vader, por lo que el equilibrio de La Fuerza en la Galaxia quedará establecido. Más tarde, la forma de espíritu de Obi-Wan Kenobi aparece y confirma que Vader una vez fue Anakin Skywalker, un joven Jedi que fue seducido por el lado oscuro de la Fuerza. También le revela que la Princesa Leia es en realidad su hermana melliza, que fueron separados de su madre, Padmé Amidala (quien falleció justo después del parto) al nacer y ocultados para proteger a ambos de Vader y el Emperador Palpatine.Mientras tanto, en el punto de reunión en un lejano lugar de la Galaxia, la Alianza Rebelde prepara una estrategia de ataque contra el Imperio Galáctico, logrando reunir varias naves de combate de entre todos los\n",
      "Q: Luke encuentra a Yoda y es entrenado como Jedi\n",
      "      0.6989638805389404  =>  Star Wars: Episodio V - El Imperio contraataca\n",
      "      (id: f91cb33f-62aa-40c3-a775-b3699552f8f6) intercede, alegando que él también era un joven con la cabeza distraída cuando fue entrenado, a lo que Yoda no puede negarse y comienza a instruir a Luke en los caminos de la Fuerza.Yoda le da a Luke grandes lecciones de sabiduría, como que el tamaño no importa (cabe destacar que Yoda mide 0,56 m), el origen y la omnipresencia de la Fuerza y la diferencia entre el lado luminoso y el oscuro. Durante el entrenamiento, Yoda insta a Luke a entrar en una cueva dominada por el lado oscuro, en donde Luke se enfrenta a Vader en una visión y, para su confusión, ve su propio rostro bajo la máscara de Vader. Yoda le enseña a su joven aprendiz cómo poder levitar a través de la Fuerza, la nave X-Wing atascada en el pantano, cosa que Luke no logró debido a su incredulidad. Durante una meditación, Luke logra ver el futuro: Leia y Han sufriendo en una Ciudad de las Nubes. Habiendo visto eso, Luke decide ir a rescatarlos, ignorando las advertencias de Yoda y de Obi-Wan (quien vuelve al mundo en forma de fantasma de la fuerza). Obi-Wan se lamenta, diciendo que Luke era su última esperanza, pero\n",
      "      0.6415563821792603  =>  Star Wars: Episode VI - Return of the Jedi\n",
      "      (id: 44b60d8e-a533-436c-b983-e979055cf0c1) afectada temporalmente; pero es descubierta por Jabba y puesta bajo su custodia, pasando a ser su esclava. Poco tiempo más tarde, Luke llega para hacer una petición final a Jabba de liberar a Solo. Luke es capturado y enviado al pozo de un Rancor al cual mata, provocando la ira de Jabba quien decreta que Luke, Chewie y Han serían llevados al desierto para ser ejecutados y consumidos por un Sarlacc. Con la ayuda de R2-D2, Luke usa su nuevo Sable de luz, esta vez con un filo de color verde, comienza a librar una batalla con los guardias de Jabba, mientras que en el interior de la barcaza principal Jabba es asesinado por Leia (quién lo ahorca con la misma cadena con la que el la controlaba) y el cazarrecompensas Boba Fett es golpeado por Solo cayendo dentro del Sarlacc. Luke y su equipo consiguen escapar justo antes de que la barcaza de Jabba explote.Luke vuelve a Dagobah para completar su entrenamiento Jedi, pero el maestro Yoda cae enfermo y al borde de su inminente muerte. Yoda le dice a su aprendiz que su entrenamiento ha concluido. Antes de morir y volverse uno con la Fuerza, Yoda le dice\n",
      "      0.6318886876106262  =>  Star Wars: Episodio III - La venganza de los Sith\n",
      "      (id: 78c7fc0f-b14a-45f6-b438-c655d0d77058) a Luke mientras está exiliado en el planeta Tatooine. Por otro lado Yoda vivirá como exiliado en el planeta Dagobah, esperando el crecimiento de los hijos de Padmé y Anakin, las únicas esperanzas de rescatar a la galaxia del naciente malvado Imperio Galáctico.[4]\n"
     ]
    }
   ],
   "source": [
    "queries = [\n",
    "    'Anakin gana una carrera cuando era un niño',\n",
    "    'Los clones reciben la orden de ejecutar a los Jedi',\n",
    "    'Han Solo gana el Halcón Milenario en una partida de cartas',\n",
    "    #'Kylo Ren mata a su padre, Han Solo',\n",
    "    #'Palpatine es derrotado definitivamente por Rey',\n",
    "    # Less accurate queries\n",
    "    'Luke descubre que Darth Vader es en realidad su padre',\n",
    "    'Luke encuentra a Yoda y es entrenado como Jedi',\n",
    "]\n",
    "\n",
    "for q in queries:    \n",
    "    results = qdrant.similarity_search_with_score(q, k=3)    \n",
    "    print('Q:', q)\n",
    "    for doc, score in results:\n",
    "        print('     ', score, ' => ', doc.metadata['title'])\n",
    "        print('     ', f'(id: {doc.metadata[\"_id\"]})', doc.page_content)\n",
    "\n"
   ]
  },
  {
   "cell_type": "markdown",
   "metadata": {},
   "source": [
    "### Creamos un Chat Agent experto en Star Wars con langchain"
   ]
  },
  {
   "cell_type": "code",
   "execution_count": null,
   "metadata": {},
   "outputs": [],
   "source": [
    "MY_MOVIE_COLL = \"my_movie\"\n",
    "qdrant_chat = Qdrant(\n",
    "    client=client,\n",
    "    collection_name=MY_MOVIE_COLL,\n",
    "    embeddings=oai_embedding\n",
    ")\n",
    "client.recreate_collection(MY_MOVIE_COLL, VectorParams(size=MODEL_DIMENSION, distance=Distance.COSINE))\n",
    "\n",
    "my_movie = pd.read_json('datasets/rey_legacy_plot.json')\n",
    "print('Columns:', my_movie.columns, ', Records:', my_movie.shape[0])\n",
    "my_movie.head()\n",
    "\n",
    "docs = create_docs_from_df(my_movie)\n",
    "qdrant_chat.add_documents(docs)\n",
    "\n",
    "# http://localhost:6333/dashboard/#/collections/my_movie\n",
    "# http://localhost:6333/collections/my_movie"
   ]
  },
  {
   "cell_type": "code",
   "execution_count": null,
   "metadata": {},
   "outputs": [],
   "source": [
    "from langchain.chat_models import ChatOpenAI\n",
    "from langchain.chains.conversation.memory import ConversationBufferWindowMemory\n",
    "from langchain.chains import RetrievalQA\n",
    "\n",
    "#OpenAI LLM\n",
    "# OpenAI models: https://platform.openai.com/docs/models\n",
    "# OpenAI pricing: https://openai.com/pricing#language-models\n",
    "llm = ChatOpenAI(openai_api_key=os.getenv(\"OPENAI_API_KEY\"),\n",
    "                 #model_name=\"gpt-4-turbo-preview\", \n",
    "                 model_name=\"gpt-3.5-turbo-0125\", \n",
    "                 temperature=0.0)\n",
    "\n",
    "# Conversation memory\n",
    "#conv_mem = ConversationBufferWindowMemory(memory_key='history', k=5, return_messages=True)\n",
    "\n",
    "qa = RetrievalQA.from_llm(\n",
    "    llm=llm,\n",
    "    retriever=qdrant_chat.as_retriever()\n",
    ")\n",
    "print(qa)"
   ]
  },
  {
   "cell_type": "code",
   "execution_count": null,
   "metadata": {},
   "outputs": [],
   "source": [
    "def print_qa(q):\n",
    "    print('\\nQ:', q)\n",
    "    answer = qa.run(q)\n",
    "    print('A:', answer)\n",
    "\n",
    "print_qa(\"¿A qué se dedica Rey en Tatooine?\")\n",
    "print_qa(\"¿Quién avisa a Rey para que viaje a Mercuroon?\")\n",
    "print_qa(\"¿Qué se encuentra Rey al llegar a Mercuroon por primera vez?\")\n",
    "print_qa(\"¿Cómo se llama el lider de la nueva orden Sith?\")\n",
    "print_qa(\"¿Cómo se llama la nave de Darth Krayer?\")\n",
    "print_qa(\"¿A quién encuentra Rey en la nave 'Korriban Avenger'?\")\n",
    "print_qa(\"¿Cómo derrota Rey a Krayer, quién la ayuda?\")\n",
    "#print_qa(\"¿quién es Aron?\")\n",
    "#print_qa(\"¿cómo ayuda Aron en la nave de Krayer a Rey?\")\n",
    "print_qa(\"¿Qué decide hacer Rey en el templo de Mercuroon?\")\n",
    "print_qa(\"¿A quien pide ayuda Rey después de volver a Mercuroon?\")\n",
    "\n",
    "# Pregunta difícil\n",
    "print_qa(\"¿Quién acompaña a Rey a Mercuroon?\")\n"
   ]
  },
  {
   "cell_type": "code",
   "execution_count": null,
   "metadata": {},
   "outputs": [],
   "source": [
    "\n",
    "## Preguntas sin contexto\n",
    "print_qa(\"¿quién es la madre de Aron?\")\n",
    "print_qa(\"¿donde están los padres de Aron Tano?\")\n"
   ]
  },
  {
   "cell_type": "code",
   "execution_count": null,
   "metadata": {},
   "outputs": [],
   "source": [
    "my_plot = '''Aron descubre en la nave de Ahsoka que sus padres viven, su padre es Lando Tano y su madre Fenny Shuuka, \n",
    "pero están prisioneros de unas minas de cristales en el planeta Kreeltor. Aron decide ir a rescatarlos y Rey le acompaña.\n",
    "'''\n",
    "new_doc = Document(page_content=my_plot, metadata=dict(title=\"Ahsoka Legacy\"))\n",
    "\n",
    "qdrant_chat.add_documents([new_doc])\n",
    "\n",
    "print_qa(\"¿quién es la madre de Aron?\")\n",
    "print_qa(\"¿dónde se encuentran los padres de Aron?\")\n",
    "\n",
    "\n"
   ]
  }
 ],
 "metadata": {
  "kernelspec": {
   "display_name": ".venv",
   "language": "python",
   "name": "python3"
  },
  "language_info": {
   "codemirror_mode": {
    "name": "ipython",
    "version": 3
   },
   "file_extension": ".py",
   "mimetype": "text/x-python",
   "name": "python",
   "nbconvert_exporter": "python",
   "pygments_lexer": "ipython3",
   "version": "3.11.2"
  }
 },
 "nbformat": 4,
 "nbformat_minor": 2
}
