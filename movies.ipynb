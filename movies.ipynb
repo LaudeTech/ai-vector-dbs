{
 "cells": [
  {
   "cell_type": "markdown",
   "metadata": {},
   "source": [
    "# Búsquedas semánticas con películas\n",
    "\n",
    "## Entorno:\n",
    "\n",
    "```shellscript\n",
    "docker run -p 6333:6333 -p 6334:6334 -v $(pwd)/q_storage:/qdrant/storage:z qdrant/qdrant\n",
    "```\n",
    "\n",
    "```shellscript\t\n",
    "python -m venv .venv\n",
    "source .venv/bin/activate\n",
    "```\n"
   ]
  },
  {
   "cell_type": "code",
   "execution_count": null,
   "metadata": {},
   "outputs": [],
   "source": [
    "%pip install -r requirements.txt\n",
    "#!jupyter nbextension enable --py widgetsnbextension\n"
   ]
  },
  {
   "cell_type": "code",
   "execution_count": null,
   "metadata": {},
   "outputs": [],
   "source": [
    "# Ejemplo con Chroma DB para insertar y consultar\n",
    "import chromadb\n",
    "\n",
    "# Inicialización del cliente Chroma\n",
    "client = chromadb.Client()\n",
    "\n",
    "# Creación de una colección\n",
    "try:\n",
    "    client.delete_collection(\"basic_example\")\n",
    "except:\n",
    "    pass\n",
    "# Chroma Distance metric: https://docs.trychroma.com/usage-guide#changing-the-distance-function\n",
    "collection = client.create_collection(name=\"basic_example\", metadata={\"hnsw:space\": \"l2\"})\n",
    "\n",
    "# Creación de 4 vectores de dimensión 3\n",
    "vectores = [\n",
    "    [0.1, 0.1, 0.1],\n",
    "    [0.2, 0.2, 0.2],\n",
    "    [0.3, 0.3, 0.3],\n",
    "    [0.4, 0.4, 0.4]\n",
    "]\n",
    "metadatas = [\n",
    "    {\"color\": \"blue\"},\n",
    "    {\"color\": \"blue\"},\n",
    "    {\"color\": \"red\"},\n",
    "    {\"color\": \"red\"}\n",
    "]\n",
    "\n",
    "collection.upsert(ids=[\"1\", \"2\", \"3\", \"4\"], embeddings=vectores, metadatas=metadatas)\n",
    "\n",
    "q_embedding = [0.12, 0.12, 0.12]\n",
    "results = collection.query(query_embeddings=q_embedding, n_results=3, include = [\"metadatas\", \"embeddings\", \"distances\"],)\n",
    "print(f'Resultados para embedding: {q_embedding}')\n",
    "for i, id in enumerate(results['ids'][0]):\n",
    "    distance = results['distances'][0][i]\n",
    "    metadata = results['metadatas'][0][i]\n",
    "    vector = results['embeddings'][0][i]\n",
    "    print(f' - ID: {id}, Distance: {distance:.5f}, Metadata: {metadata}, Vector: [{vector[0]:.1f}, ...]')\n",
    "\n",
    "results = collection.query(query_embeddings=q_embedding, where={\"color\": \"red\"}, n_results=3, include = [\"metadatas\", \"embeddings\", \"distances\"],)\n",
    "print(f'Resultados para embedding: {q_embedding} con filtro color=red')\n",
    "for i, id in enumerate(results['ids'][0]):\n",
    "    distance = results['distances'][0][i]\n",
    "    metadata = results['metadatas'][0][i]\n",
    "    vector = results['embeddings'][0][i]\n",
    "    print(f' - ID: {id}, Distance: {distance:.5f}, Metadata: {metadata}, Vector: [{vector[0]:.1f}, ...]')\n",
    "\n"
   ]
  },
  {
   "cell_type": "code",
   "execution_count": 22,
   "metadata": {},
   "outputs": [
    {
     "name": "stdout",
     "output_type": "stream",
     "text": [
      "Columns: Index(['title', 'plot'], dtype='object') , Records: 11\n"
     ]
    }
   ],
   "source": [
    "import pandas as pd\n",
    "import numpy as np\n",
    "\n",
    "# Load the data\n",
    "df = pd.read_json('datasets/star_wars_plots.json')\n",
    "print('Columns:', df.columns, ', Records:', df.shape[0])\n",
    "df.head()\n",
    "startwars_movies = df"
   ]
  },
  {
   "cell_type": "markdown",
   "metadata": {},
   "source": [
    "### Creamos embeddings del argumento de las películas"
   ]
  },
  {
   "cell_type": "code",
   "execution_count": 23,
   "metadata": {},
   "outputs": [
    {
     "name": "stdout",
     "output_type": "stream",
     "text": [
      "SentenceTransformer(\n",
      "  (0): Transformer({'max_seq_length': 256, 'do_lower_case': False}) with Transformer model: BertModel \n",
      "  (1): Pooling({'word_embedding_dimension': 384, 'pooling_mode_cls_token': False, 'pooling_mode_mean_tokens': True, 'pooling_mode_max_tokens': False, 'pooling_mode_mean_sqrt_len_tokens': False, 'pooling_mode_weightedmean_tokens': False, 'pooling_mode_lasttoken': False})\n",
      "  (2): Normalize()\n",
      ")\n"
     ]
    }
   ],
   "source": [
    "from sentence_transformers import SentenceTransformer\n",
    "\n",
    "model = SentenceTransformer('all-minilm-l6-v2', device='cuda')\n",
    "#model = SentenceTransformer('all-mpnet-base-v2', device='cuda')\n",
    "print(model)"
   ]
  },
  {
   "cell_type": "markdown",
   "metadata": {},
   "source": [
    "### Preparamos los datos para almacenarlos en la BBDD Vectorial"
   ]
  },
  {
   "cell_type": "code",
   "execution_count": 35,
   "metadata": {},
   "outputs": [
    {
     "data": {
      "application/vnd.jupyter.widget-view+json": {
       "model_id": "7b35574357e24067be925ab2866e0525",
       "version_major": 2,
       "version_minor": 0
      },
      "text/plain": [
       "0it [00:00, ?it/s]"
      ]
     },
     "metadata": {},
     "output_type": "display_data"
    },
    {
     "name": "stdout",
     "output_type": "stream",
     "text": [
      "0 Star Wars: Episodio IV - Una nueva esperanza chunks: 8\n",
      "1 Star Wars: Episodio V - El Imperio contraataca chunks: 12\n",
      "2 Star Wars: Episode VI - Return of the Jedi chunks: 17\n",
      "3 Star Wars: Episodio I - La amenaza fantasma chunks: 5\n",
      "4 Star Wars: Episodio II - El ataque de los clones chunks: 13\n",
      "5 Star Wars: Episodio III - La venganza de los Sith chunks: 28\n",
      "6 Star Wars: Episodio VII - El despertar de la Fuerza chunks: 20\n",
      "7 Star Wars: Episodio VIII - Los últimos Jedi chunks: 16\n",
      "8 Star Wars: Episodio IX - El ascenso de Skywalker chunks: 17\n",
      "9 Rogue One: una historia de Star Wars chunks: 20\n",
      "10 Han Solo: una historia de Star Wars chunks: 6\n"
     ]
    }
   ],
   "source": [
    "import time\n",
    "from tqdm.notebook import tqdm\n",
    "\n",
    "CHUNK_WORDS = 200\n",
    "\n",
    "# Creamos chunks de texto de unas 200 palabras con un solape de 10 palabras\n",
    "def chunk_text(text, chunk_size=CHUNK_WORDS, overlap=CHUNK_WORDS//20):\n",
    "    '''\n",
    "    Divide el texto en chunks de un tamaño dado con un solape entre ellos.\n",
    "    Cada modelo solo puede procesar un número limitado de tokens, por lo que \n",
    "    es necesario dividir el texto en chunks.\n",
    "    1000 tokens son aproximadamente 750 palabras.\n",
    "    https://openai.com/pricing#language-models\n",
    "    '''\n",
    "    chunks = []\n",
    "    words = text.split()\n",
    "    for i in range(0, len(words), chunk_size-overlap):\n",
    "        chunks.append(' '.join(words[i:i+chunk_size]))\n",
    "    return chunks\n",
    "\n",
    "# Añadimos columnas plot_chunks y chunk_embeddings que serán arrays en  startwars_movies\n",
    "plot_embeddings = []\n",
    "for i, row in tqdm(startwars_movies.iterrows()):\n",
    "    plot_chunks = chunk_text(row['plot'])\n",
    "    embeddings = model.encode(plot_chunks).tolist()\n",
    "    plot_embeddings.append([{'chunk': chunk, 'embedding': embedding} for chunk, embedding in zip(plot_chunks, embeddings)])\n",
    "    print(i, row['title'], 'chunks:', len(plot_chunks))\n",
    "    \n"
   ]
  },
  {
   "cell_type": "code",
   "execution_count": 36,
   "metadata": {},
   "outputs": [
    {
     "name": "stdout",
     "output_type": "stream",
     "text": [
      "1 Star Wars: Episodio IV - Una nueva esperanza - Hace mucho tiempo en una galaxia muy, muy lejana ... Son tiempos de guerra civil\n",
      "2 Star Wars: Episodio IV - Una nueva esperanza - Darth Vader a la cabeza. Durante el asalto, capturan a la princesa, quien antes \n",
      "3 Star Wars: Episodio IV - Una nueva esperanza - travesía, son atacados por «moradores de las arenas», siendo finalmente rescatad\n",
      "4 Star Wars: Episodio IV - Una nueva esperanza - todos sus habitantes. Al regresar a su casa, Luke encuentra los cadáveres carbon\n",
      "5 Star Wars: Episodio IV - Una nueva esperanza - de que no colabore con el imperio. Debido a esto, Leia cede y le dice a Tarkin q\n",
      "6 Star Wars: Episodio IV - Una nueva esperanza - contrabando. Después, descubren que la princesa se encuentra en la estación, por\n",
      "7 Star Wars: Episodio IV - Una nueva esperanza - no está del todo convencida, pues según su criterio los han dejado escapar así p\n",
      "8 Star Wars: Episodio IV - Una nueva esperanza - rebelde del Templo Massassi, donde la princesa Leia concede a Luke y Han las med\n",
      "9 Star Wars: Episodio V - El Imperio contraataca - Hace mucho tiempo en una galaxia muy, muy lejana [...] Es una época oscura para \n",
      "10 Star Wars: Episodio V - El Imperio contraataca - Luke Skywalker, ha enviado miles de sondas espaciales por toda la galaxia. Una d\n",
      "Vectors: 162 Movies: 11\n"
     ]
    }
   ],
   "source": [
    "#Creamos un documento por cada chunk de texto de cada película con su embedding y metadatos\n",
    "\n",
    "vector_data = []\n",
    "i = 0\n",
    "for k, title in enumerate(startwars_movies['title'].tolist()):\n",
    "    #print(md)\n",
    "    for plot_chunk in plot_embeddings[k]:\n",
    "        metadata = dict(title=title)\n",
    "        i += 1\n",
    "        metadata['plot_chunk'] = plot_chunk['chunk'] \n",
    "        vector_data.append({\n",
    "            \"id\": i,\n",
    "            \"embedding\": plot_chunk['embedding'],\n",
    "            \"metadata\": metadata,\n",
    "        })\n",
    "\n",
    "for v in vector_data[:10]:\n",
    "    print(v['id'], v['metadata']['title'],'-', v['metadata']['plot_chunk'][:80])\n",
    "print('Vectors:', len(vector_data), 'Movies:', len(startwars_movies))  \n"
   ]
  },
  {
   "cell_type": "markdown",
   "metadata": {},
   "source": [
    "### Conectamos con Qdrant para crear una colección y alimentarla con los embeddings\n"
   ]
  },
  {
   "cell_type": "code",
   "execution_count": 37,
   "metadata": {},
   "outputs": [
    {
     "name": "stdout",
     "output_type": "stream",
     "text": [
      "status=<CollectionStatus.GREEN: 'green'> optimizer_status=<OptimizersStatusOneOf.OK: 'ok'> vectors_count=0 indexed_vectors_count=0 points_count=0 segments_count=8 config=CollectionConfig(params=CollectionParams(vectors=VectorParams(size=384, distance=<Distance.COSINE: 'Cosine'>, hnsw_config=None, quantization_config=None, on_disk=None), shard_number=1, sharding_method=None, replication_factor=1, write_consistency_factor=1, read_fan_out_factor=None, on_disk_payload=True, sparse_vectors=None), hnsw_config=HnswConfig(m=16, ef_construct=100, full_scan_threshold=10000, max_indexing_threads=0, on_disk=False, payload_m=None), optimizer_config=OptimizersConfig(deleted_threshold=0.2, vacuum_min_vector_number=1000, default_segment_number=0, max_segment_size=None, memmap_threshold=None, indexing_threshold=20000, flush_interval_sec=5, max_optimization_threads=1), wal_config=WalConfig(wal_capacity_mb=32, wal_segments_ahead=0), quantization_config=None) payload_schema={}\n"
     ]
    }
   ],
   "source": [
    "from qdrant_client import QdrantClient\n",
    "from qdrant_client.models import VectorParams, Distance\n",
    "\n",
    "qd = QdrantClient(url=\"http://localhost:6333\")\n",
    "\n",
    "MOVIES_COLLECTION = \"movies_sw\"\n",
    "\n",
    "qd.delete_collection(MOVIES_COLLECTION)\n",
    "# \"size\" is the dimension of the vectors, \"distance\" is the metric used to calculate the distance between vectors\n",
    "qd.create_collection(MOVIES_COLLECTION, VectorParams(size=model.get_sentence_embedding_dimension(), distance=Distance.COSINE))\n",
    "movies = qd.get_collection(MOVIES_COLLECTION)\n",
    "\n",
    "print(movies)"
   ]
  },
  {
   "cell_type": "code",
   "execution_count": 38,
   "metadata": {},
   "outputs": [
    {
     "name": "stdout",
     "output_type": "stream",
     "text": [
      "Points: 162 Movies: 11\n",
      "status=<CollectionStatus.GREEN: 'green'> optimizer_status=<OptimizersStatusOneOf.OK: 'ok'> vectors_count=162 indexed_vectors_count=0 points_count=162 segments_count=8 config=CollectionConfig(params=CollectionParams(vectors=VectorParams(size=384, distance=<Distance.COSINE: 'Cosine'>, hnsw_config=None, quantization_config=None, on_disk=None), shard_number=1, sharding_method=None, replication_factor=1, write_consistency_factor=1, read_fan_out_factor=None, on_disk_payload=True, sparse_vectors=None), hnsw_config=HnswConfig(m=16, ef_construct=100, full_scan_threshold=10000, max_indexing_threads=0, on_disk=False, payload_m=None), optimizer_config=OptimizersConfig(deleted_threshold=0.2, vacuum_min_vector_number=1000, default_segment_number=0, max_segment_size=None, memmap_threshold=None, indexing_threshold=20000, flush_interval_sec=5, max_optimization_threads=1), wal_config=WalConfig(wal_capacity_mb=32, wal_segments_ahead=0), quantization_config=None) payload_schema={}\n"
     ]
    }
   ],
   "source": [
    "from qdrant_client.models import PointStruct\n",
    "\n",
    "points = list(map(lambda x: PointStruct(id=int(x['id']), vector=x['embedding'], payload=x['metadata']), vector_data))\n",
    "print('Points:', len(points), 'Movies:', len(startwars_movies))\n",
    "op = qd.upsert(\n",
    "    collection_name=MOVIES_COLLECTION,\n",
    "    wait=True,\n",
    "    points=points,\n",
    ")\n",
    "\n",
    "print(qd.get_collection(MOVIES_COLLECTION))\n",
    "\n"
   ]
  },
  {
   "cell_type": "markdown",
   "metadata": {},
   "source": [
    "### Realizamos búsquedas semánticas sobre la saga Star Wars (Spoilers warning!!)"
   ]
  },
  {
   "cell_type": "code",
   "execution_count": 39,
   "metadata": {},
   "outputs": [
    {
     "name": "stdout",
     "output_type": "stream",
     "text": [
      "Q: Anakin gana una carrera cuando era un niño\n",
      "      0.6354809  =>  Star Wars: Episodio I - La amenaza fantasma\n",
      "      (id: 41) el niño gana la carrera, se quedarán con los repuestos para la nave y con la libertad de Anakin. Watto acepta, al creer que el mayor oponente de Anakin, Sebulba, le ganaría.Ya en la carrera, Anakin tiene problemas ya que Sebulba había roto un elemento de su pod. Sin embargo, el niño se las ingenia para estabilizar la nave y finalmente gana la carrera. Luego de una emotiva despedida entre Shmi y Anakin, todos se dirigen hacia la nave de la Reina para trasladarse hacia Coruscant, capital de la República. Antes de llegar a la nave, Qui-Gon es sorprendido por el aprendiz de Lord Sidious, Darth Maul, y mantienen una pequeña lucha con sus sables. Finalmente, Qui-Gon logra huir en la nave. Una vez en Coruscant, Qui-Gon y Obi-Wan se dirigen hacia el Consejo Jedi para proponer el entrenamiento de Anakin, pero es rechazado debido a que el consejo se opuso a ello porque no veían a Anakin como El elegido. Sin embargo, Qui-Gon, por su parte, decide dar término al entrenamiento de Obi-Wan para así poder entrenar a Anakin él mismo. Al mismo tiempo, el senador Palpatine convence a Padmé de votar en contra del Canciller Supremo Valorum por\n",
      "      0.4729727  =>  Han Solo: una historia de Star Wars\n",
      "      (id: 162) quitarle mientras lo saludaba la carta con la que hizo trampa la última vez y gana la partida tomando posesión del Halcón Milenario. Después de ganar la apuesta, Han y Chewbacca abordan su nueva nave y se dirigen ahora hacia el planeta Tatooine, donde un gánster está formando un equipo para realizar un atraco.\n",
      "      0.4722365  =>  Rogue One: una historia de Star Wars\n",
      "      (id: 156) de memoria y comienzan la inmediata evacuación de la nave, pero justo en ese momento la nave es abordada por el mismo Darth Vader, el cual masacra sin piedad y sin misericordia a casi todos los soldados rebeldes en los pasillos del Profundidad que se le cruzan en su camino su sable de luz de color rojo carmesí, en su intento de recuperar la tarjeta de memoria que contiene los planos del arma. Sin embargo Los rebeldes logran escapar con los planos a bordo de la corbeta rebelde Tantive IV, abandonando la fragata Profundidad antes de que el malvado lord Sith los alcance en el puerto de carga de la nave. Mientras la corbeta Tantive IV se prepara para saltar al hiperespacio, la princesa Leia Organa (Ingvild Deila) recibe los planos y declara que son la esperanza de la rebelión. Concluido esto, la nave se pone en marcha y se aleja por el hiperespacio en dirección al planeta Tatooine.\n",
      "Q: Los clones reciben la orden de ejecutar a los Jedi\n",
      "      0.6158446  =>  Star Wars: Episodio III - La venganza de los Sith\n",
      "      (id: 77) que no hay rastros del cuerpo del maestro Jedi por ninguna parte, pero en eso el mismo Mas Amedda les menciona a los soldados clones de que es probable de que Yoda no este muerto, por lo que Palpatine le ordena a los soldados clones que lo busquen por todas partes antes de que el Jedi intruso se escape y los soldados clones se retiran de la zona para doblar la búsqueda del maestro Yoda, tan pronto como los soldados clones se retiran de la escena, el mismo Palpatine le ordena a Mas Amedda que prepare su nave para salir de inmediato, ya que siente que su aprendiz esta en peligro y necesita ir a ayudarlo. Por otro lado, el maestro Yoda finalmente consigue llegar hasta una escotilla de escape y es recogido por el senador Organa, a quien el maestro Yoda rápidamente le comenta que desgraciadamente deberá irse al exilio, debido a que su misión de derrotar a los Sith fue un rotundo fracaso. Mientras tanto el duelo épico de Anakin y Obi-Wan se desarrolla desde la plataforma de aterrizaje de los edificios administrativos del planeta Mustafar, hasta el río de lava que fluye cerca de estos, donde los\n",
      "      0.59047556  =>  Star Wars: Episodio III - La venganza de los Sith\n",
      "      (id: 67) asesinados por sus propias tropas de soldados clones sin piedad y sin misericordia, entre los cuales se destacan: el maestro Jedi Ki-Adi-Mundi, el cual se encontraba en el planeta Mygeeto comandando una fuerte ofensiva contra las tropas enemigas, sin embargo y de forma sorpresiva el maestro Jedi es traicionado por el Comandante clon Bacara y sus tropas, los cuales abren fuego en contra del maestro Jedi, quien a pesar de poder defenderse y reflectar varios disparos de sus tropas, este no puede reflectar todos los disparos continuos de los clones y es asesinado por sus propias tropas de soldados clon, por su parte la maestra Jedi Aayla Secura, quien se encontraba realizando un asalto en el planeta Felucia es sorpresivamente traicionada por la espalda por el Comandante clon Bly y sus propias tropas, los cuales abren fuego en contra de la maestra Jedi y la rematan en el suelo, sin que esta pudiera reaccionar ante el peligro inminente, por otro lado el maestro Jedi Plo Koon, quien se encontraba en el planeta Cato Neimoidia piloteando su nave Jedi Interceptor, es rápidamente traicionado y derribado por sus propios pilotos clon, dirigidos por el Capitán clon Jag y su nave se estrella\n",
      "      0.57731867  =>  Star Wars: Episodio III - La venganza de los Sith\n",
      "      (id: 66) un nuevo lord Sith— jura lealtad a su nuevo maestro y comienza a ejecutar sus órdenes con el uso del Lado Oscuro de la Fuerza. Como su primera misión y como nuevo aprendiz de lord Sidious, Anakin es enviado a acudir al Templo Jedi para asesinar a todos los niños y demás aprendices de la Orden Jedi acompañado de sus tropas de la legión de soldados clones 501. A su vez, Darth Sidious envía sus órdenes precisas a los soldados clones activos en la galaxia, para eliminar a sus respectivos generales Jedi, mediante la promulgación de una directiva programada bajo la Orden Secreta Número 66. Con dicha resolución activada, el Comandante clon Cody desde el planeta Utapau rápidamente le ordena a sus tropas abrir fuego a traición y por la espalda contra Obi-Wan, el cual es impactado por el disparo, junto a su bestia que montaba en ese momento y se caen al vació, pero afortunadamente el maestro Jedi sobrevive a la caída y escapa secretamente del planeta por medio de la nave del difunto General Grievous, al mismo tiempo la mayoría de los maestros Jedi son rápidamente traicionados y asesinados por sus propias tropas de soldados clones sin piedad\n",
      "Q: Han Solo gana el Halcón Milenario en una partida de cartas\n",
      "      0.67337763  =>  Han Solo: una historia de Star Wars\n",
      "      (id: 162) quitarle mientras lo saludaba la carta con la que hizo trampa la última vez y gana la partida tomando posesión del Halcón Milenario. Después de ganar la apuesta, Han y Chewbacca abordan su nueva nave y se dirigen ahora hacia el planeta Tatooine, donde un gánster está formando un equipo para realizar un atraco.\n",
      "      0.63436645  =>  Star Wars: Episodio V - El Imperio contraataca\n",
      "      (id: 20) a la princesa Leia y Luke que encontrarán a Han. Finalmente Lando y Chewbacca parten en busca de Han a bordo del Halcón Milenario en dirección al planeta Tatooine.[7]\n",
      "      0.54319805  =>  Star Wars: Episodio VII - El despertar de la Fuerza\n",
      "      (id: 101) el disparo que le hizo Chewbacca previamente), demostrando que a pesar de ser una novata sin entrenamiento en los caminos de la Fuerza, termina siendo tan hábil como el mismo Kylo Ren, quien finalmente quedó vencido y desarmado en el suelo con heridas severas y una cicatriz en el rostro, cuando de repente el terreno donde estaban los dividió en costados contrarios de una enorme grieta, consecuencia de la inminente destrucción del planeta que partía en pedazos. Chewbacca aparece entonces a bordo del Halcón Milenario en medio del bosque para rescatarla junto a Finn y escapar de ahí.Poe y el resto de pilotos de los X-Wings sobrevivientes logran escapar junto al Halcón Milenario de la superarma Base Starkiller. Por otro lado el líder supremo Snoke le ordena al General Hux que ordene la inmediata retirada de todo el personal de la Primera Orden de la base y se reúnan con su flota inmediatamente y que de paso también rescate a Kylo Ren, ya que según este menciona cree que es tiempo de completar su entrenamiento. Los valientes pilotos llegan a D'Qar, donde Leia había presentido por medio de la Fuerza la muerte de Han y Rey trata de consolarla por\n",
      "Q: Luke descubre que Darth Vader es en realidad su padre\n",
      "      0.7272093  =>  Star Wars: Episode VI - Return of the Jedi\n",
      "      (id: 28) para enfrentarse a Darth Vader, porque él también puede predecir el futuro con la ayuda del Lado Luminoso de la Fuerza que está concentrada ahora en él. Antes de marcharse, Luke le confiesa a Leia que son hermanos y que Vader es su padre. Luke se entrega en medio de la noche, a los soldados del Imperio en una base comando en medio de la selva de Endor, y sin éxito, intenta convencer a su padre para que deje el Lado Oscuro. Vader traslada a Luke a la Estrella de la muerte y lo presenta ante el Emperador Palpatine, quien le revela que la Alianza Rebelde va a caer en una trampa y que la nueva estación espacial, está en perfecto estado y funcionamiento con su arma principal, y que él había previsto toda esta situación, la llegada de Luke, el ataque de la Alianza Rebelde y la presencia de los comandos especiales de la Alianza Rebelde, que quieren sabotear el escudo de energía en Endor y le revela, que un grupo especial de sus propias fuerzas de combate harán caer en una trampa a sus amigos en Endor, para derrotar a las naves de la alianza rebelde cuando arriben\n",
      "      0.6747167  =>  Star Wars: Episode VI - Return of the Jedi\n",
      "      (id: 37) cree que Leia está enamorada de Luke, es entonces que Leia le revela a Han que ella y Luke son hermanos, haciendo que Han y Leia reafirmen su relación. Ya más tarde, en Endor, Luke incinera en una pira funeraria los restos de su padre. Mientras diversos rincones de la galaxia, como la Ciudad de las Nubes, Tatooine, Naboo y Coruscant celebran la caída del Imperio, Luke se reúne con sus amigos en la celebración; Allí ve los espíritus de Yoda, Obi-Wan Kenobi, y el de su padre, Anakin Skywalker, ahora sin su traje y estos le dan una sonrisa de felicidad al último Jedi que existe en la galaxia, ya libre de la oscuridad y la tiranía del Imperio Galáctico y los Sith.[3]\n",
      "      0.6580404  =>  Star Wars: Episodio IX - El ascenso de Skywalker\n",
      "      (id: 129) a lo que más teme es a sí misma, ya que en sus visiones se había visto sentada en el trono oscuro de los Sith, pero Luke le menciona que es por ser ella una Palpatine de línea sanguínea y tanto él mismo como Leia lo sabían desde el día que la conocieron.En ese momento, Rey se queda sorprendida de la revelación y de que Leia, jamás se lo había dicho y que aun así, la entrenó sin decírselo, ya que tanto Leia como Luke, habían visto su verdadero espíritu y su corazón. En ese momento, Luke le menciona a Rey que existen muchas cosas más importantes que la línea de sangre y que confrontar el miedo es el camino de todo Jedi, también le menciona que sino enfrenta a Palpatine, como él lo hizo en su momento con su padre Darth Vader será el fin de todos los Jedi y se perderá la guerra. Luego de esta conversación Luke le pide a Rey que lo acompañe a buscar algo que a Leia le hubiera gustado darle en su momento y resulta ser el antiguo sable de luz de Leia. Entonces el mismo Luke le revela a Rey que cuando\n",
      "Q: Luke encuentra a Yoda y es entrenado como Jedi\n",
      "      0.731378  =>  Star Wars: Episodio III - La venganza de los Sith\n",
      "      (id: 83) a Luke mientras está exiliado en el planeta Tatooine. Por otro lado Yoda vivirá como exiliado en el planeta Dagobah, esperando el crecimiento de los hijos de Padmé y Anakin, las únicas esperanzas de rescatar a la galaxia del naciente malvado Imperio Galáctico.[4]\n",
      "      0.71985376  =>  Star Wars: Episode VI - Return of the Jedi\n",
      "      (id: 37) cree que Leia está enamorada de Luke, es entonces que Leia le revela a Han que ella y Luke son hermanos, haciendo que Han y Leia reafirmen su relación. Ya más tarde, en Endor, Luke incinera en una pira funeraria los restos de su padre. Mientras diversos rincones de la galaxia, como la Ciudad de las Nubes, Tatooine, Naboo y Coruscant celebran la caída del Imperio, Luke se reúne con sus amigos en la celebración; Allí ve los espíritus de Yoda, Obi-Wan Kenobi, y el de su padre, Anakin Skywalker, ahora sin su traje y estos le dan una sonrisa de felicidad al último Jedi que existe en la galaxia, ya libre de la oscuridad y la tiranía del Imperio Galáctico y los Sith.[3]\n",
      "      0.7021002  =>  Star Wars: Episodio V - El Imperio contraataca\n",
      "      (id: 20) a la princesa Leia y Luke que encontrarán a Han. Finalmente Lando y Chewbacca parten en busca de Han a bordo del Halcón Milenario en dirección al planeta Tatooine.[7]\n"
     ]
    }
   ],
   "source": [
    "\n",
    "\n",
    "queries = [\n",
    "    'Anakin gana una carrera cuando era un niño',\n",
    "    'Los clones reciben la orden de ejecutar a los Jedi',\n",
    "    'Han Solo gana el Halcón Milenario en una partida de cartas',\n",
    "    #'Kylo Ren mata a su padre, Han Solo',\n",
    "    #'Palpatine es derrotado definitivamente por Rey',\n",
    "    # Less accurate queries\n",
    "    'Luke descubre que Darth Vader es en realidad su padre',\n",
    "    'Luke encuentra a Yoda y es entrenado como Jedi',\n",
    "]\n",
    "\n",
    "for q in queries:\n",
    "    query_emb = model.encode(q)\n",
    "    results = qd.search(MOVIES_COLLECTION, query_vector=query_emb, limit=3)\n",
    "    print('Q:', q)\n",
    "    for r in results:\n",
    "        print('     ', r.score, ' => ', r.payload['title'])\n",
    "        print('     ', f'(id: {r.id})', r.payload['plot_chunk'])\n",
    "\n"
   ]
  },
  {
   "cell_type": "code",
   "execution_count": null,
   "metadata": {},
   "outputs": [],
   "source": []
  }
 ],
 "metadata": {
  "kernelspec": {
   "display_name": ".venv",
   "language": "python",
   "name": "python3"
  },
  "language_info": {
   "codemirror_mode": {
    "name": "ipython",
    "version": 3
   },
   "file_extension": ".py",
   "mimetype": "text/x-python",
   "name": "python",
   "nbconvert_exporter": "python",
   "pygments_lexer": "ipython3",
   "version": "3.11.2"
  }
 },
 "nbformat": 4,
 "nbformat_minor": 2
}
